{
 "cells": [
  {
   "cell_type": "markdown",
   "metadata": {},
   "source": [
    "# Use mapping file created in step 1 to download meteorology data for gridpoints within basin shapefile + buffer distance"
   ]
  },
  {
   "cell_type": "code",
   "execution_count": 4,
   "metadata": {},
   "outputs": [],
   "source": [
    "# data processing\n",
    "import os\n",
    "import pandas as pd, numpy as np, dask, json\n",
    "import ogh\n",
    "import geopandas as gpd\n",
    "import ogh_xarray_landlab as oxl\n",
    "import xarray as xr\n",
    "\n",
    "# data migration library\n",
    "from utilities import hydroshare\n",
    "\n",
    "# plotting and shape libraries\n",
    "%matplotlib inline\n",
    "\n",
    "import warnings\n",
    "warnings.filterwarnings(\"ignore\")"
   ]
  },
  {
   "cell_type": "code",
   "execution_count": 5,
   "metadata": {
    "scrolled": false
   },
   "outputs": [
    {
     "name": "stdout",
     "output_type": "stream",
     "text": [
      "Data will be saved to:/home/jovyan/work/notebooks/GriddedMetDataDownload/projects/TemperatureSensorRegion\n"
     ]
    }
   ],
   "source": [
    "#hs=hydroshare.hydroshare()\n",
    "#homedir = hs.getContentPath(os.environ[\"HS_RES_ID\"])\n",
    "homedir = '/home/jovyan/work/notebooks/GriddedMetDataDownload/projects/TemperatureSensorRegion'\n",
    "os.chdir(homedir)\n",
    "print('Data will be saved to:'+homedir)"
   ]
  },
  {
   "cell_type": "markdown",
   "metadata": {},
   "source": [
    "##  open meta_file for use in functions below"
   ]
  },
  {
   "cell_type": "code",
   "execution_count": 6,
   "metadata": {},
   "outputs": [
    {
     "data": {
      "text/plain": [
       "['dailymet_bclivneh2013',\n",
       " 'dailymet_livneh2013',\n",
       " 'dailymet_livneh2015',\n",
       " 'dailyvic_livneh2013',\n",
       " 'dailyvic_livneh2015',\n",
       " 'dailywrf_bcsalathe2014',\n",
       " 'dailywrf_salathe2014',\n",
       " 'hourlywrf_pnnl']"
      ]
     },
     "execution_count": 6,
     "metadata": {},
     "output_type": "execute_result"
    }
   ],
   "source": [
    "# initialize ogh_meta\n",
    "meta_file = dict(ogh.ogh_meta())\n",
    "sorted(meta_file.keys())"
   ]
  },
  {
   "cell_type": "code",
   "execution_count": 7,
   "metadata": {},
   "outputs": [
    {
     "data": {
      "text/plain": [
       "'1950-01-01'"
      ]
     },
     "execution_count": 7,
     "metadata": {},
     "output_type": "execute_result"
    }
   ],
   "source": [
    "#check characteristics of data\n",
    "meta_file['dailywrf_salathe2014']['start_date']"
   ]
  },
  {
   "cell_type": "markdown",
   "metadata": {},
   "source": [
    "## Re-establish the paths to the mapping file"
   ]
  },
  {
   "cell_type": "code",
   "execution_count": 8,
   "metadata": {},
   "outputs": [
    {
     "data": {
      "text/html": [
       "<div>\n",
       "<style scoped>\n",
       "    .dataframe tbody tr th:only-of-type {\n",
       "        vertical-align: middle;\n",
       "    }\n",
       "\n",
       "    .dataframe tbody tr th {\n",
       "        vertical-align: top;\n",
       "    }\n",
       "\n",
       "    .dataframe thead tr th {\n",
       "        text-align: left;\n",
       "    }\n",
       "</style>\n",
       "<table border=\"1\" class=\"dataframe\">\n",
       "  <thead>\n",
       "    <tr>\n",
       "      <th>Watershed</th>\n",
       "      <th>Puyallup_PNNL</th>\n",
       "      <th>Puyallup_VIC</th>\n",
       "    </tr>\n",
       "    <tr>\n",
       "      <th>Median elevation in meters [range](Number of gridded cells)</th>\n",
       "      <th>1613[997-1857] (n=34)</th>\n",
       "      <th>1603[866-1958] (n=37)</th>\n",
       "    </tr>\n",
       "  </thead>\n",
       "  <tbody>\n",
       "    <tr>\n",
       "      <th>dailymet_bclivneh2013</th>\n",
       "      <td>0</td>\n",
       "      <td>1603[866-1958] (n=37)</td>\n",
       "    </tr>\n",
       "    <tr>\n",
       "      <th>dailymet_livneh2013</th>\n",
       "      <td>0</td>\n",
       "      <td>1603[866-1958] (n=37)</td>\n",
       "    </tr>\n",
       "    <tr>\n",
       "      <th>dailymet_livneh2015</th>\n",
       "      <td>0</td>\n",
       "      <td>1603[866-1958] (n=37)</td>\n",
       "    </tr>\n",
       "    <tr>\n",
       "      <th>dailyvic_livneh2013</th>\n",
       "      <td>0</td>\n",
       "      <td>1603[866-1958] (n=37)</td>\n",
       "    </tr>\n",
       "    <tr>\n",
       "      <th>dailyvic_livneh2015</th>\n",
       "      <td>0</td>\n",
       "      <td>1603[866-1958] (n=37)</td>\n",
       "    </tr>\n",
       "    <tr>\n",
       "      <th>dailywrf_bcsalathe2014</th>\n",
       "      <td>0</td>\n",
       "      <td>1623[866-1958] (n=34)</td>\n",
       "    </tr>\n",
       "    <tr>\n",
       "      <th>dailywrf_salathe2014</th>\n",
       "      <td>0</td>\n",
       "      <td>1623[866-1958] (n=34)</td>\n",
       "    </tr>\n",
       "    <tr>\n",
       "      <th>hourlywrf_pnnl</th>\n",
       "      <td>1613[997-1857] (n=34)</td>\n",
       "      <td>0</td>\n",
       "    </tr>\n",
       "  </tbody>\n",
       "</table>\n",
       "</div>"
      ],
      "text/plain": [
       "Watershed                                                            Puyallup_PNNL  \\\n",
       "Median elevation in meters [range](Number of gridded cells)  1613[997-1857] (n=34)   \n",
       "dailymet_bclivneh2013                                                            0   \n",
       "dailymet_livneh2013                                                              0   \n",
       "dailymet_livneh2015                                                              0   \n",
       "dailyvic_livneh2013                                                              0   \n",
       "dailyvic_livneh2015                                                              0   \n",
       "dailywrf_bcsalathe2014                                                           0   \n",
       "dailywrf_salathe2014                                                             0   \n",
       "hourlywrf_pnnl                                               1613[997-1857] (n=34)   \n",
       "\n",
       "Watershed                                                             Puyallup_VIC  \n",
       "Median elevation in meters [range](Number of gridded cells)  1603[866-1958] (n=37)  \n",
       "dailymet_bclivneh2013                                        1603[866-1958] (n=37)  \n",
       "dailymet_livneh2013                                          1603[866-1958] (n=37)  \n",
       "dailymet_livneh2015                                          1603[866-1958] (n=37)  \n",
       "dailyvic_livneh2013                                          1603[866-1958] (n=37)  \n",
       "dailyvic_livneh2015                                          1603[866-1958] (n=37)  \n",
       "dailywrf_bcsalathe2014                                       1623[866-1958] (n=34)  \n",
       "dailywrf_salathe2014                                         1623[866-1958] (n=34)  \n",
       "hourlywrf_pnnl                                                                   0  "
      ]
     },
     "execution_count": 8,
     "metadata": {},
     "output_type": "execute_result"
    }
   ],
   "source": [
    "# map the mapping files generated for Sauk-Suiattle, Elwha, and Upper Rio Salado from usecase1\n",
    "mappingfile_PNNL = os.path.join(homedir,'Temp_P_mappingfile_i.csv')\n",
    "\n",
    "mappingfile_VIC = os.path.join(homedir, 'Temp_VIC_mappingfile.csv') \n",
    "\n",
    "t1 = ogh.mappingfileSummary(listofmappingfiles = [mappingfile_PNNL,mappingfile_VIC], \n",
    "                            listofwatershednames = ['Puyallup_PNNL','Puyallup_VIC'],\n",
    "                            meta_file=meta_file)\n",
    "\n",
    "t1"
   ]
  },
  {
   "cell_type": "markdown",
   "metadata": {},
   "source": [
    "### convert mapping file to dataframe: maptable"
   ]
  },
  {
   "cell_type": "code",
   "execution_count": 9,
   "metadata": {
    "scrolled": true
   },
   "outputs": [
    {
     "name": "stdout",
     "output_type": "stream",
     "text": [
      "Number of gridded data files:34\n",
      "Minimum elevation: 997.522521973m\n",
      "Mean elevation: 1518.119246539206m\n",
      "Maximum elevation: 1857.13256836m\n"
     ]
    },
    {
     "data": {
      "text/plain": [
       "34"
      ]
     },
     "execution_count": 9,
     "metadata": {},
     "output_type": "execute_result"
    }
   ],
   "source": [
    "maptable_p, nstations_p = ogh.mappingfileToDF_PNNL(mappingfile_PNNL)\n",
    "maptable_p\n",
    "nstations_p"
   ]
  },
  {
   "cell_type": "code",
   "execution_count": 10,
   "metadata": {},
   "outputs": [
    {
     "name": "stdout",
     "output_type": "stream",
     "text": [
      "Number of gridded data files:34\n",
      "Minimum elevation: 866.0m\n",
      "Mean elevation: 1541.0882352941176m\n",
      "Maximum elevation: 1958.0m\n"
     ]
    },
    {
     "data": {
      "text/plain": [
       "34"
      ]
     },
     "execution_count": 10,
     "metadata": {},
     "output_type": "execute_result"
    }
   ],
   "source": [
    "maptable_v, nstations_v = ogh.mappingfileToDF(mappingfile_VIC)\n",
    "maptable_v\n",
    "nstations_v"
   ]
  },
  {
   "cell_type": "code",
   "execution_count": 12,
   "metadata": {},
   "outputs": [
    {
     "data": {
      "text/html": [
       "<div>\n",
       "<style scoped>\n",
       "    .dataframe tbody tr th:only-of-type {\n",
       "        vertical-align: middle;\n",
       "    }\n",
       "\n",
       "    .dataframe tbody tr th {\n",
       "        vertical-align: top;\n",
       "    }\n",
       "\n",
       "    .dataframe thead th {\n",
       "        text-align: right;\n",
       "    }\n",
       "</style>\n",
       "<table border=\"1\" class=\"dataframe\">\n",
       "  <thead>\n",
       "    <tr style=\"text-align: right;\">\n",
       "      <th></th>\n",
       "      <th>FID</th>\n",
       "      <th>SN</th>\n",
       "      <th>WE</th>\n",
       "      <th>LAT</th>\n",
       "      <th>LONG_</th>\n",
       "      <th>ELEV</th>\n",
       "      <th>hourlywrf_pnnl</th>\n",
       "    </tr>\n",
       "  </thead>\n",
       "  <tbody>\n",
       "    <tr>\n",
       "      <th>0</th>\n",
       "      <td>0</td>\n",
       "      <td>57.0</td>\n",
       "      <td>60.0</td>\n",
       "      <td>48.464809</td>\n",
       "      <td>-120.792419</td>\n",
       "      <td>1566.227539</td>\n",
       "      <td>/home/jovyan/work/notebooks/GriddedMetDataDown...</td>\n",
       "    </tr>\n",
       "    <tr>\n",
       "      <th>1</th>\n",
       "      <td>1</td>\n",
       "      <td>57.0</td>\n",
       "      <td>61.0</td>\n",
       "      <td>48.469715</td>\n",
       "      <td>-120.711258</td>\n",
       "      <td>1740.342163</td>\n",
       "      <td>/home/jovyan/work/notebooks/GriddedMetDataDown...</td>\n",
       "    </tr>\n",
       "    <tr>\n",
       "      <th>2</th>\n",
       "      <td>2</td>\n",
       "      <td>57.0</td>\n",
       "      <td>62.0</td>\n",
       "      <td>48.474552</td>\n",
       "      <td>-120.630096</td>\n",
       "      <td>1806.527100</td>\n",
       "      <td>/home/jovyan/work/notebooks/GriddedMetDataDown...</td>\n",
       "    </tr>\n",
       "    <tr>\n",
       "      <th>3</th>\n",
       "      <td>3</td>\n",
       "      <td>58.0</td>\n",
       "      <td>59.0</td>\n",
       "      <td>48.513668</td>\n",
       "      <td>-120.881042</td>\n",
       "      <td>1689.336548</td>\n",
       "      <td>/home/jovyan/work/notebooks/GriddedMetDataDown...</td>\n",
       "    </tr>\n",
       "    <tr>\n",
       "      <th>4</th>\n",
       "      <td>4</td>\n",
       "      <td>58.0</td>\n",
       "      <td>60.0</td>\n",
       "      <td>48.518616</td>\n",
       "      <td>-120.799835</td>\n",
       "      <td>1700.479858</td>\n",
       "      <td>/home/jovyan/work/notebooks/GriddedMetDataDown...</td>\n",
       "    </tr>\n",
       "  </tbody>\n",
       "</table>\n",
       "</div>"
      ],
      "text/plain": [
       "   FID    SN    WE        LAT       LONG_         ELEV  \\\n",
       "0    0  57.0  60.0  48.464809 -120.792419  1566.227539   \n",
       "1    1  57.0  61.0  48.469715 -120.711258  1740.342163   \n",
       "2    2  57.0  62.0  48.474552 -120.630096  1806.527100   \n",
       "3    3  58.0  59.0  48.513668 -120.881042  1689.336548   \n",
       "4    4  58.0  60.0  48.518616 -120.799835  1700.479858   \n",
       "\n",
       "                                      hourlywrf_pnnl  \n",
       "0  /home/jovyan/work/notebooks/GriddedMetDataDown...  \n",
       "1  /home/jovyan/work/notebooks/GriddedMetDataDown...  \n",
       "2  /home/jovyan/work/notebooks/GriddedMetDataDown...  \n",
       "3  /home/jovyan/work/notebooks/GriddedMetDataDown...  \n",
       "4  /home/jovyan/work/notebooks/GriddedMetDataDown...  "
      ]
     },
     "execution_count": 12,
     "metadata": {},
     "output_type": "execute_result"
    }
   ],
   "source": [
    "maptable_p.head()\n",
    "#maptable_v\n"
   ]
  },
  {
   "cell_type": "markdown",
   "metadata": {},
   "source": [
    "## Download grid points in mapping file from of PNNL 2018 netCDF files, convert to ascii\n",
    "#### becuase of memore problem with dataset.to_dataframe(), use chunks: 1981to1987, 1988 to 1994, 1995 to 2001, 2002 to 2008,  2009 to 2015"
   ]
  },
  {
   "cell_type": "code",
   "execution_count": 13,
   "metadata": {},
   "outputs": [],
   "source": [
    "#chunks = [('1981-01-01','1987-12-31'),('1988-01-01','1994-12-31'),('1995-01-01','2001-12-31'),('2002-01-01','2008-12-31'),('2009-01-01','2015-12-31')]\n",
    "#chunks = [('2001-01-01','2005-12-31'),('2006-01-01','2010-12-31'),('2011-01-01','2015-12-31')]\n",
    "chunks = [('2006-01-01','2010-12-31')]"
   ]
  },
  {
   "cell_type": "code",
   "execution_count": 14,
   "metadata": {},
   "outputs": [
    {
     "data": {
      "text/plain": [
       "[('2006-01-01', '2010-12-31')]"
      ]
     },
     "execution_count": 14,
     "metadata": {},
     "output_type": "execute_result"
    }
   ],
   "source": [
    "type(chunks)\n",
    "chunks\n"
   ]
  },
  {
   "cell_type": "markdown",
   "metadata": {},
   "source": [
    "### Define grid cells to be clipped from NetCDF files"
   ]
  },
  {
   "cell_type": "code",
   "execution_count": 15,
   "metadata": {},
   "outputs": [
    {
     "data": {
      "text/plain": [
       "{'minx': 56, 'maxx': 65, 'miny': 57, 'maxy': 62}"
      ]
     },
     "execution_count": 15,
     "metadata": {},
     "output_type": "execute_result"
    }
   ],
   "source": [
    "spatialbounds = {'minx':maptable_p.WE.min().astype(np.int64), 'maxx':maptable_p.WE.max().astype(np.int64),\n",
    "                 'miny':maptable_p.SN.min().astype(np.int64), 'maxy':maptable_p.SN.max().astype(np.int64)}\n",
    "spatialbounds"
   ]
  },
  {
   "cell_type": "markdown",
   "metadata": {},
   "source": [
    "#### check directory that data will be saved to"
   ]
  },
  {
   "cell_type": "code",
   "execution_count": 16,
   "metadata": {},
   "outputs": [
    {
     "data": {
      "text/plain": [
       "'/home/jovyan/work/notebooks/GriddedMetDataDownload/projects/TemperatureSensorRegion'"
      ]
     },
     "execution_count": 16,
     "metadata": {},
     "output_type": "execute_result"
    }
   ],
   "source": [
    "datadir = homedir\n",
    "datadir"
   ]
  },
  {
   "cell_type": "code",
   "execution_count": null,
   "metadata": {},
   "outputs": [],
   "source": [
    "%%time\n",
    "for chunk in chunks:\n",
    "\n",
    "    #update datadir to save downloaded data in appropriate location\n",
    "    #use get_x_hourlywrf_PNNL2018_dir if only directory needed\n",
    "    outputfiles = oxl.get_x_hourlywrf_PNNL2018(homedir=datadir,\n",
    "                                                spatialbounds=spatialbounds,\n",
    "                                                subdir='PNNL/' + chunk[0] + 'to' + chunk[1] +'/',\n",
    "                                                nworkers=40,\n",
    "                                                start_date=chunk[0],\n",
    "                                                end_date=chunk[1],\n",
    "                                                file_prefix='sp_',\n",
    "                                                replace_file=True)\n",
    "\n",
    "\n",
    "    outputlist = oxl.netcdf_to_ascii_PNNL2018(homedir=homedir,\n",
    "                                 subdir='PNNL/ASCII/' + chunk[0] + 'to' + chunk[1] +'/',\n",
    "                                 netcdfs=outputfiles,\n",
    "                                 mappingfile=mappingfile_PNNL,\n",
    "                                 catalog_label='hourlywrf_pnnl',\n",
    "                                 meta_file=meta_file)\n",
    "                                 #time_nm = '20060101to20101231')"
   ]
  },
  {
   "cell_type": "markdown",
   "metadata": {},
   "source": [
    "## Download Salathe and Livneh ascii files that corrispond to gridpoints in mappingfile "
   ]
  },
  {
   "cell_type": "code",
   "execution_count": null,
   "metadata": {},
   "outputs": [],
   "source": [
    "%%time\n",
    "\n",
    "ogh.getDailyMET_livneh2013(homedir, mappingfile_VIC)\n",
    "ogh.getDailyMET_bcLivneh2013(homedir, mappingfile_VIC)\n",
    "ogh.getDailyMET_livneh2015(homedir, mappingfile_VIC)\n",
    "ogh.getDailyVIC_livneh2013(homedir, mappingfile_VIC)\n",
    "ogh.getDailyVIC_livneh2015(homedir, mappingfile_VIC)\n",
    "ogh.getDailyWRF_salathe2014(homedir, mappingfile_VIC)\n",
    "ogh.getDailyWRF_bcsalathe2014(homedir, mappingfile_VIC)"
   ]
  },
  {
   "cell_type": "markdown",
   "metadata": {},
   "source": [
    "### Update mapping file summary"
   ]
  },
  {
   "cell_type": "code",
   "execution_count": 17,
   "metadata": {},
   "outputs": [
    {
     "data": {
      "text/html": [
       "<div>\n",
       "<style scoped>\n",
       "    .dataframe tbody tr th:only-of-type {\n",
       "        vertical-align: middle;\n",
       "    }\n",
       "\n",
       "    .dataframe tbody tr th {\n",
       "        vertical-align: top;\n",
       "    }\n",
       "\n",
       "    .dataframe thead tr th {\n",
       "        text-align: left;\n",
       "    }\n",
       "</style>\n",
       "<table border=\"1\" class=\"dataframe\">\n",
       "  <thead>\n",
       "    <tr>\n",
       "      <th>Watershed</th>\n",
       "      <th>Temp_PNNL</th>\n",
       "      <th>Temp_VIC</th>\n",
       "    </tr>\n",
       "    <tr>\n",
       "      <th>Median elevation in meters [range](Number of gridded cells)</th>\n",
       "      <th>1613[997-1857] (n=34)</th>\n",
       "      <th>1603[866-1958] (n=37)</th>\n",
       "    </tr>\n",
       "  </thead>\n",
       "  <tbody>\n",
       "    <tr>\n",
       "      <th>dailymet_bclivneh2013</th>\n",
       "      <td>0</td>\n",
       "      <td>1603[866-1958] (n=37)</td>\n",
       "    </tr>\n",
       "    <tr>\n",
       "      <th>dailymet_livneh2013</th>\n",
       "      <td>0</td>\n",
       "      <td>1603[866-1958] (n=37)</td>\n",
       "    </tr>\n",
       "    <tr>\n",
       "      <th>dailymet_livneh2015</th>\n",
       "      <td>0</td>\n",
       "      <td>1603[866-1958] (n=37)</td>\n",
       "    </tr>\n",
       "    <tr>\n",
       "      <th>dailyvic_livneh2013</th>\n",
       "      <td>0</td>\n",
       "      <td>1603[866-1958] (n=37)</td>\n",
       "    </tr>\n",
       "    <tr>\n",
       "      <th>dailyvic_livneh2015</th>\n",
       "      <td>0</td>\n",
       "      <td>1603[866-1958] (n=37)</td>\n",
       "    </tr>\n",
       "    <tr>\n",
       "      <th>dailywrf_bcsalathe2014</th>\n",
       "      <td>0</td>\n",
       "      <td>1623[866-1958] (n=34)</td>\n",
       "    </tr>\n",
       "    <tr>\n",
       "      <th>dailywrf_salathe2014</th>\n",
       "      <td>0</td>\n",
       "      <td>1623[866-1958] (n=34)</td>\n",
       "    </tr>\n",
       "    <tr>\n",
       "      <th>hourlywrf_pnnl</th>\n",
       "      <td>1613[997-1857] (n=34)</td>\n",
       "      <td>0</td>\n",
       "    </tr>\n",
       "  </tbody>\n",
       "</table>\n",
       "</div>"
      ],
      "text/plain": [
       "Watershed                                                                Temp_PNNL  \\\n",
       "Median elevation in meters [range](Number of gridded cells)  1613[997-1857] (n=34)   \n",
       "dailymet_bclivneh2013                                                            0   \n",
       "dailymet_livneh2013                                                              0   \n",
       "dailymet_livneh2015                                                              0   \n",
       "dailyvic_livneh2013                                                              0   \n",
       "dailyvic_livneh2015                                                              0   \n",
       "dailywrf_bcsalathe2014                                                           0   \n",
       "dailywrf_salathe2014                                                             0   \n",
       "hourlywrf_pnnl                                               1613[997-1857] (n=34)   \n",
       "\n",
       "Watershed                                                                 Temp_VIC  \n",
       "Median elevation in meters [range](Number of gridded cells)  1603[866-1958] (n=37)  \n",
       "dailymet_bclivneh2013                                        1603[866-1958] (n=37)  \n",
       "dailymet_livneh2013                                          1603[866-1958] (n=37)  \n",
       "dailymet_livneh2015                                          1603[866-1958] (n=37)  \n",
       "dailyvic_livneh2013                                          1603[866-1958] (n=37)  \n",
       "dailyvic_livneh2015                                          1603[866-1958] (n=37)  \n",
       "dailywrf_bcsalathe2014                                       1623[866-1958] (n=34)  \n",
       "dailywrf_salathe2014                                         1623[866-1958] (n=34)  \n",
       "hourlywrf_pnnl                                                                   0  "
      ]
     },
     "execution_count": 17,
     "metadata": {},
     "output_type": "execute_result"
    }
   ],
   "source": [
    "t1 = ogh.mappingfileSummary(listofmappingfiles = [mappingfile_PNNL,mappingfile_VIC], \n",
    "                            listofwatershednames = ['Temp_PNNL','Temp_VIC'],\n",
    "                            meta_file=meta_file)\n",
    "\n",
    "t1\n",
    "#t1.to_csv(os.path.join(homedir, 'watershed_table.txt'), sep='\\t', header=True, index=True)\n",
    "\n"
   ]
  },
  {
   "cell_type": "markdown",
   "metadata": {},
   "source": [
    "## Combine and summarize individual ascii files into a dictionary: ltm"
   ]
  },
  {
   "cell_type": "markdown",
   "metadata": {},
   "source": [
    "#### Livneh 2013"
   ]
  },
  {
   "cell_type": "code",
   "execution_count": 18,
   "metadata": {},
   "outputs": [
    {
     "data": {
      "text/plain": [
       "('1950-01-01', '2010-12-31')"
      ]
     },
     "execution_count": 18,
     "metadata": {},
     "output_type": "execute_result"
    }
   ],
   "source": [
    "# Livneh et al., 2013\n",
    "dr1 = meta_file['dailymet_livneh2013']\n",
    "\n",
    "# Salathe et al., 2014\n",
    "dr2 = meta_file['dailywrf_salathe2014']\n",
    "\n",
    "# define overlapping time window\n",
    "dr = ogh.overlappingDates(date_set1=tuple([dr1['start_date'], dr1['end_date']]), \n",
    "                          date_set2=tuple([dr2['start_date'], dr2['end_date']]))\n",
    "dr\n"
   ]
  },
  {
   "cell_type": "code",
   "execution_count": 20,
   "metadata": {},
   "outputs": [
    {
     "name": "stdout",
     "output_type": "stream",
     "text": [
      "DatetimeIndex(['1915-01-01', '1915-01-02', '1915-01-03', '1915-01-04',\n",
      "               '1915-01-05', '1915-01-06', '1915-01-07', '1915-01-08',\n",
      "               '1915-01-09', '1915-01-10',\n",
      "               ...\n",
      "               '2011-12-22', '2011-12-23', '2011-12-24', '2011-12-25',\n",
      "               '2011-12-26', '2011-12-27', '2011-12-28', '2011-12-29',\n",
      "               '2011-12-30', '2011-12-31'],\n",
      "              dtype='datetime64[ns]', length=35429, freq='D')\n",
      "DatetimeIndex(['1915-01-01', '1915-01-02', '1915-01-03', '1915-01-04',\n",
      "               '1915-01-05', '1915-01-06', '1915-01-07', '1915-01-08',\n",
      "               '1915-01-09', '1915-01-10',\n",
      "               ...\n",
      "               '2011-12-22', '2011-12-23', '2011-12-24', '2011-12-25',\n",
      "               '2011-12-26', '2011-12-27', '2011-12-28', '2011-12-29',\n",
      "               '2011-12-30', '2011-12-31'],\n",
      "              dtype='datetime64[ns]', length=35429, freq='D')\n",
      "Number of data files within elevation range (866.0-1958.0 m): 37\n",
      "PRECIP dataframe reading complete:0:00:00.694789\n",
      "TMAX dataframe reading complete:0:00:01.245083\n",
      "TMIN dataframe reading complete:0:00:01.788540\n",
      "WINDSPD dataframe reading complete:0:00:02.321778\n",
      "PRECIP_dailymet_livneh2013 calculations completed in 0:00:00.176348\n",
      "CPU times: user 5.55 s, sys: 1.19 s, total: 6.74 s\n",
      "Wall time: 2.51 s\n"
     ]
    }
   ],
   "source": [
    "%%time\n",
    "ltm = ogh.gridclim_dict(mappingfile=mappingfile_VIC,\n",
    "                        metadata=meta_file,\n",
    "                        dataset='dailymet_livneh2013',\n",
    "                        subset_start_date='1915-01-01',\n",
    "                        subset_end_date='2011-12-31')\n",
    "\n",
    "# compute sums and mean monthly an yearly sums\n",
    "ltm = ogh.aggregate_space_time_sum(df_dict=ltm,\n",
    "                                   suffix='PRECIP_dailymet_livneh2013',\n",
    "                                   start_date=dr[0],\n",
    "                                   end_date=dr[1])"
   ]
  },
  {
   "cell_type": "markdown",
   "metadata": {},
   "source": [
    "#### Salathe 2014"
   ]
  },
  {
   "cell_type": "code",
   "execution_count": 21,
   "metadata": {},
   "outputs": [
    {
     "name": "stdout",
     "output_type": "stream",
     "text": [
      "DatetimeIndex(['1950-01-01', '1950-01-02', '1950-01-03', '1950-01-04',\n",
      "               '1950-01-05', '1950-01-06', '1950-01-07', '1950-01-08',\n",
      "               '1950-01-09', '1950-01-10',\n",
      "               ...\n",
      "               '2010-12-22', '2010-12-23', '2010-12-24', '2010-12-25',\n",
      "               '2010-12-26', '2010-12-27', '2010-12-28', '2010-12-29',\n",
      "               '2010-12-30', '2010-12-31'],\n",
      "              dtype='datetime64[ns]', length=22280, freq='D')\n",
      "DatetimeIndex(['1915-01-01', '1915-01-02', '1915-01-03', '1915-01-04',\n",
      "               '1915-01-05', '1915-01-06', '1915-01-07', '1915-01-08',\n",
      "               '1915-01-09', '1915-01-10',\n",
      "               ...\n",
      "               '2011-12-22', '2011-12-23', '2011-12-24', '2011-12-25',\n",
      "               '2011-12-26', '2011-12-27', '2011-12-28', '2011-12-29',\n",
      "               '2011-12-30', '2011-12-31'],\n",
      "              dtype='datetime64[ns]', length=35429, freq='D')\n",
      "Number of data files within elevation range (866.0-1958.0 m): 34\n",
      "PRECIP dataframe reading complete:0:00:00.488046\n",
      "TMAX dataframe reading complete:0:00:00.946387\n",
      "TMIN dataframe reading complete:0:00:01.402288\n",
      "WINDSPD dataframe reading complete:0:00:01.875933\n",
      "PRECIP_dailywrf_salathe2014 calculations completed in 0:00:00.184547\n",
      "CPU times: user 3.33 s, sys: 334 ms, total: 3.67 s\n",
      "Wall time: 2.07 s\n"
     ]
    }
   ],
   "source": [
    "%%time\n",
    "ltm = ogh.gridclim_dict(mappingfile=mappingfile_VIC,\n",
    "                        metadata=meta_file,\n",
    "                        dataset='dailywrf_salathe2014',\n",
    "                        subset_start_date='1915-01-01',\n",
    "                        subset_end_date='2011-12-31',\n",
    "                        df_dict = ltm)\n",
    "\n",
    "# compute sums and mean monthly an yearly sums\n",
    "ltm = ogh.aggregate_space_time_sum(df_dict=ltm,\n",
    "                                   suffix='PRECIP_dailywrf_salathe2014',\n",
    "                                   start_date='1950-01-01',\n",
    "                                   end_date='2010-12-31')"
   ]
  },
  {
   "cell_type": "code",
   "execution_count": 22,
   "metadata": {},
   "outputs": [
    {
     "data": {
      "text/plain": [
       "dict_keys(['PRECIP_dailymet_livneh2013', 'TMAX_dailymet_livneh2013', 'TMIN_dailymet_livneh2013', 'WINDSPD_dailymet_livneh2013', 'meanalldailysum_PRECIP_dailymet_livneh2013', 'monthsum_PRECIP_dailymet_livneh2013', 'meanbymonthsum_PRECIP_dailymet_livneh2013', 'meanmonthsum_PRECIP_dailymet_livneh2013', 'meanallmonthsum_PRECIP_dailymet_livneh2013', 'yearsum_PRECIP_dailymet_livneh2013', 'meanbyyearsum_PRECIP_dailymet_livneh2013', 'meanyearsum_PRECIP_dailymet_livneh2013', 'meanallyearsum_PRECIP_dailymet_livneh2013', 'PRECIP_dailywrf_salathe2014', 'TMAX_dailywrf_salathe2014', 'TMIN_dailywrf_salathe2014', 'WINDSPD_dailywrf_salathe2014', 'meanalldailysum_PRECIP_dailywrf_salathe2014', 'monthsum_PRECIP_dailywrf_salathe2014', 'meanbymonthsum_PRECIP_dailywrf_salathe2014', 'meanmonthsum_PRECIP_dailywrf_salathe2014', 'meanallmonthsum_PRECIP_dailywrf_salathe2014', 'yearsum_PRECIP_dailywrf_salathe2014', 'meanbyyearsum_PRECIP_dailywrf_salathe2014', 'meanyearsum_PRECIP_dailywrf_salathe2014', 'meanallyearsum_PRECIP_dailywrf_salathe2014'])"
      ]
     },
     "execution_count": 22,
     "metadata": {},
     "output_type": "execute_result"
    }
   ],
   "source": [
    "#check data sets stored in ltm dictionary\n",
    "ltm.keys()"
   ]
  },
  {
   "cell_type": "markdown",
   "metadata": {},
   "source": [
    "#### PNNL 2018"
   ]
  },
  {
   "cell_type": "markdown",
   "metadata": {},
   "source": [
    "### combine chunks then add to ltm dictionary"
   ]
  },
  {
   "cell_type": "markdown",
   "metadata": {},
   "source": [
    "#### chunks used to download data:"
   ]
  },
  {
   "cell_type": "code",
   "execution_count": 24,
   "metadata": {},
   "outputs": [
    {
     "data": {
      "text/plain": [
       "[('2006-01-01', '2010-12-31')]"
      ]
     },
     "execution_count": 24,
     "metadata": {},
     "output_type": "execute_result"
    }
   ],
   "source": [
    "#chunks = [('2001-01-01','2005-12-31')]\n",
    "#chunks = [('2001-01-01','2005-12-31'),('2006-01-01','2010-12-31'),('2011-01-01','2015-12-31')]\n",
    "type(chunks)\n",
    "chunks\n"
   ]
  },
  {
   "cell_type": "markdown",
   "metadata": {},
   "source": [
    "#### Create dictionary Ldict: each chunk has a key in dictionary. Within each key are all of the variables from the PNNL dataset"
   ]
  },
  {
   "cell_type": "code",
   "execution_count": 25,
   "metadata": {},
   "outputs": [
    {
     "name": "stdout",
     "output_type": "stream",
     "text": [
      "CPU times: user 10 µs, sys: 0 ns, total: 10 µs\n",
      "Wall time: 21 µs\n",
      "DatetimeIndex(['2006-01-01 00:00:00', '2006-01-01 01:00:00',\n",
      "               '2006-01-01 02:00:00', '2006-01-01 03:00:00',\n",
      "               '2006-01-01 04:00:00', '2006-01-01 05:00:00',\n",
      "               '2006-01-01 06:00:00', '2006-01-01 07:00:00',\n",
      "               '2006-01-01 08:00:00', '2006-01-01 09:00:00',\n",
      "               ...\n",
      "               '2010-12-31 14:00:00', '2010-12-31 15:00:00',\n",
      "               '2010-12-31 16:00:00', '2010-12-31 17:00:00',\n",
      "               '2010-12-31 18:00:00', '2010-12-31 19:00:00',\n",
      "               '2010-12-31 20:00:00', '2010-12-31 21:00:00',\n",
      "               '2010-12-31 22:00:00', '2010-12-31 23:00:00'],\n",
      "              dtype='datetime64[ns]', length=43824, freq='H')\n",
      "DatetimeIndex(['2006-01-01 00:00:00', '2006-01-01 01:00:00',\n",
      "               '2006-01-01 02:00:00', '2006-01-01 03:00:00',\n",
      "               '2006-01-01 04:00:00', '2006-01-01 05:00:00',\n",
      "               '2006-01-01 06:00:00', '2006-01-01 07:00:00',\n",
      "               '2006-01-01 08:00:00', '2006-01-01 09:00:00',\n",
      "               ...\n",
      "               '2010-12-31 14:00:00', '2010-12-31 15:00:00',\n",
      "               '2010-12-31 16:00:00', '2010-12-31 17:00:00',\n",
      "               '2010-12-31 18:00:00', '2010-12-31 19:00:00',\n",
      "               '2010-12-31 20:00:00', '2010-12-31 21:00:00',\n",
      "               '2010-12-31 22:00:00', '2010-12-31 23:00:00'],\n",
      "              dtype='datetime64[ns]', length=43824, freq='H')\n",
      "Number of data files within elevation range (997.522521973-1857.13256836 m): 34\n",
      "T2 dataframe reading complete:0:00:00.901921\n",
      "Q2 dataframe reading complete:0:00:01.641764\n",
      "PSFC dataframe reading complete:0:00:02.358464\n",
      "GLW dataframe reading complete:0:00:03.099865\n",
      "SWDOWN dataframe reading complete:0:00:03.822570\n",
      "U10 dataframe reading complete:0:00:04.557861\n",
      "V10 dataframe reading complete:0:00:05.295555\n",
      "PREC_ACC_NC dataframe reading complete:0:00:06.035316\n",
      "SNOW_ACC_NC dataframe reading complete:0:00:06.791352\n",
      "CPU times: user 35 s, sys: 16.1 s, total: 51.1 s\n",
      "Wall time: 6.81 s\n"
     ]
    }
   ],
   "source": [
    "%%time\n",
    "Ldict ={}\n",
    "for ind, chunk in enumerate(chunks):\n",
    "    \n",
    "    homedir = '/home/jovyan/work/notebooks/GriddedMetDataDownload/projects/TemperatureSensorRegion/PNNL/ASCII/'+ chunk[0] + 'to' + chunk[1] +'/'\n",
    "    os.chdir(homedir)\n",
    "\n",
    "    %%time\n",
    "    file_start_date = chunk[0]\n",
    "    file_end_date = chunk[1] + ' 23:00:00'\n",
    "    subset_start_date = file_start_date\n",
    "    subset_end_date =file_end_date\n",
    "    #change time step in metafile to hourly\n",
    "    Ldict[ind] = ogh.gridclim_dict(mappingfile=mappingfile_PNNL,\n",
    "                            metadata=meta_file,\n",
    "                            dataset='hourlywrf_pnnl',\n",
    "                            file_start_date = file_start_date,\n",
    "                            file_end_date = file_end_date,\n",
    "                            subset_start_date=subset_start_date,\n",
    "                            subset_end_date=subset_end_date)"
   ]
  },
  {
   "cell_type": "code",
   "execution_count": 26,
   "metadata": {},
   "outputs": [
    {
     "data": {
      "text/plain": [
       "dict_keys([0])"
      ]
     },
     "execution_count": 26,
     "metadata": {},
     "output_type": "execute_result"
    }
   ],
   "source": [
    "#look how variables are orgainzed in dataframes stored in dictionary ltm:\n",
    "\n",
    "dty = (list(Ldict[0].keys())) #variables in PNNL data\n",
    "Ldict_c = Ldict #copy of dictionary of variables, Ldict is mutable\n",
    "#Ldict[0]['T2_hourlywrf_pnnl'].head()\n",
    "dty\n",
    "Ldict.keys()\n"
   ]
  },
  {
   "cell_type": "markdown",
   "metadata": {},
   "source": [
    "### for each variable, concatenate each chunks into a single time series, add timeseries to ltm dictionary\n"
   ]
  },
  {
   "cell_type": "code",
   "execution_count": null,
   "metadata": {},
   "outputs": [],
   "source": [
    "frames = {}\n",
    "dd = {}\n",
    "for var in dty:\n",
    "    for k, v in Ldict.items():\n",
    "          df = Ldict_c[k][var]\n",
    "          mi = df.columns\n",
    "          indi = pd.Index([e[0] for e in mi.tolist()])\n",
    "          df.columns = indi\n",
    "          #df\n",
    "          frames[str(k)+var] = df  \n",
    "          if k == 0:\n",
    "            ltm[var] = df\n",
    "          else:\n",
    "            ltm[var] = ltm[var].append(df)"
   ]
  },
  {
   "cell_type": "code",
   "execution_count": null,
   "metadata": {},
   "outputs": [],
   "source": [
    "#method above removes multi comlumn index of PNNL dataset, add back in next notebook\n",
    "ltm.keys()\n",
    "ltm['T2_hourlywrf_pnnl'].head()"
   ]
  },
  {
   "cell_type": "markdown",
   "metadata": {},
   "source": [
    "### Save ltm dictionary to a pickle file that can be easily opened in same form next notebook"
   ]
  },
  {
   "cell_type": "code",
   "execution_count": 30,
   "metadata": {},
   "outputs": [],
   "source": [
    "homedir = '/home/jovyan/work/notebooks/GriddedMetDataDownload/projects/TemperatureSensorRegion'\n",
    "os.chdir(homedir)"
   ]
  },
  {
   "cell_type": "code",
   "execution_count": 31,
   "metadata": {},
   "outputs": [
    {
     "data": {
      "text/plain": [
       "'/home/jovyan/work/notebooks/GriddedMetDataDownload/projects/TemperatureSensorRegion'"
      ]
     },
     "execution_count": 31,
     "metadata": {},
     "output_type": "execute_result"
    }
   ],
   "source": [
    "pwd"
   ]
  },
  {
   "cell_type": "code",
   "execution_count": null,
   "metadata": {},
   "outputs": [],
   "source": [
    "import pickle #use pick file to retain dictionary file structure\n",
    "f = open(\"TempSensorArea_2001to2015.pkl\",\"wb\") #write binary\n",
    "pickle.dump(ltm,f)\n",
    "f.close() #pickle files must be closed"
   ]
  },
  {
   "cell_type": "code",
   "execution_count": 32,
   "metadata": {},
   "outputs": [],
   "source": [
    "#save Ldict to examine chunks before concatenating\n",
    "import pickle #use pick file to retain dictionary file structure\n",
    "f = open(\"TempSensorArea_2006to2010_SepartePereods.pkl\",\"wb\") #write binary\n",
    "pickle.dump(Ldict,f)\n",
    "f.close() #pickle files must be closed\n",
    " "
   ]
  },
  {
   "cell_type": "markdown",
   "metadata": {},
   "source": [
    "### Define wateryear summary functions"
   ]
  },
  {
   "cell_type": "code",
   "execution_count": null,
   "metadata": {},
   "outputs": [],
   "source": [
    "def WaterYear_Accum(df):\n",
    "    \n",
    "    \"\"\"\n",
    "    #df = S_PNNL_1981to1987['PREC_ACC_NC_hourlywrf_pnnl'] or any other dataframe in dictionary created by grid_clim_dict\n",
    "    \n",
    "    \"\"\"\n",
    "    #step 1, add water year (WY) column to data\n",
    "    aa = df.index.to_series() #convert index to series so that lambda function can be applied \n",
    "    df['WY'] = aa.apply(lambda x: x.year if x.month < 10 else x.year+1)\n",
    "    \n",
    "    #step 2, remove datetime index to column, label column\n",
    "    df_re = df.rename_axis('Date').reset_index()\n",
    "    \n",
    "    #step 3, move WY as index\n",
    "    df_re.set_index('WY', inplace=True)\n",
    "    \n",
    "    #step 4, sum values in each column (grid point) by WY\n",
    "    WYs_Sta = df_re.groupby(df_re.index).sum()\n",
    "    \n",
    "    #step 5, take mean of each grid cell as basin value\n",
    "    WYs_basin = WYs_Sta.mean(axis=1)\n",
    "    \n",
    "    return(WYs_basin)\n",
    "\n",
    "\n",
    "def WaterYear_Mean(df):\n",
    "    \n",
    "    \"\"\"\n",
    "    #df = S_PNNL_1981to1987['PREC_ACC_NC_hourlywrf_pnnl'] or any other dataframe in dictionary created by grid_clim_dict\n",
    "    \n",
    "    \"\"\"\n",
    "    #step 1, add water year (WY) column to data\n",
    "    aa = df.index.to_series() #convert index to series so that lambda function can be applied \n",
    "    df['WY'] = aa.apply(lambda x: x.year if x.month < 10 else x.year+1)\n",
    "    \n",
    "    #step 2, remove datetime index to column, label column\n",
    "    df_re = df.rename_axis('Date').reset_index()\n",
    "    \n",
    "    #step 3, move WY as index\n",
    "    df_re.set_index('WY', inplace=True)\n",
    "    \n",
    "    #step 4, average values in each column (grid point) by WY\n",
    "    WYm_Sta = df_re.groupby(df_re.index).mean()\n",
    "    \n",
    "    #step 5, take mean of each grid cell as basin value\n",
    "    WYm_basin = WYm_Sta.mean(axis=1)\n",
    "    \n",
    "    return(WYm_basin)"
   ]
  },
  {
   "cell_type": "code",
   "execution_count": null,
   "metadata": {},
   "outputs": [],
   "source": [
    "PNNL_hp = ltm['PREC_ACC_NC_hourlywrf_pnnl']\n",
    "#water year accumulated precip\n",
    "WYp = WaterYear_Accum(PNNL_hp)\n",
    "#water year mean temp\n",
    "PNNL_hT = ltm['T2_hourlywrf_pnnl']\n",
    "WYt = WaterYear_Mean(PNNL_hT)\n",
    "#water year mean solar radiation W/m2\n",
    "PNNL_hRs = ltm['SWDOWN_hourlywrf_pnnl']\n",
    "WYs = WaterYear_Mean(PNNL_hRs)"
   ]
  },
  {
   "cell_type": "code",
   "execution_count": null,
   "metadata": {},
   "outputs": [],
   "source": [
    "WYp\n",
    "type(WYt)"
   ]
  },
  {
   "cell_type": "code",
   "execution_count": null,
   "metadata": {},
   "outputs": [],
   "source": []
  }
 ],
 "metadata": {
  "anaconda-cloud": {},
  "kernelspec": {
   "display_name": "Python 3",
   "language": "python",
   "name": "python3"
  },
  "language_info": {
   "codemirror_mode": {
    "name": "ipython",
    "version": 3
   },
   "file_extension": ".py",
   "mimetype": "text/x-python",
   "name": "python",
   "nbconvert_exporter": "python",
   "pygments_lexer": "ipython3",
   "version": "3.6.5"
  }
 },
 "nbformat": 4,
 "nbformat_minor": 1
}
