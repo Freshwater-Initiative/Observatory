{
 "cells": [
  {
   "cell_type": "markdown",
   "metadata": {},
   "source": [
    "### check january and june, 2006 PNNL temperature data in raw netcdf files relative to concatenated ascii files to make sure concatenating correctly"
   ]
  },
  {
   "cell_type": "code",
   "execution_count": 29,
   "metadata": {},
   "outputs": [],
   "source": [
    "# data processing\n",
    "import os\n",
    "import pandas as pd, numpy as np, dask, json\n",
    "import ogh\n",
    "import geopandas as gpd\n",
    "import ogh_xarray_landlab as oxl\n",
    "import xarray as xr\n",
    "\n",
    "# data migration library\n",
    "from utilities import hydroshare\n",
    "\n",
    "# plotting and shape libraries\n",
    "%matplotlib inline\n",
    "\n",
    "import warnings\n",
    "warnings.filterwarnings(\"ignore\")"
   ]
  },
  {
   "cell_type": "code",
   "execution_count": 30,
   "metadata": {
    "scrolled": false
   },
   "outputs": [
    {
     "name": "stdout",
     "output_type": "stream",
     "text": [
      "Data will be saved to:/home/jovyan/work/notebooks/GriddedMetDataDownload/projects/TemperatureSensorRegion\n"
     ]
    }
   ],
   "source": [
    "#hs=hydroshare.hydroshare()\n",
    "#homedir = hs.getContentPath(os.environ[\"HS_RES_ID\"])\n",
    "homedir = '/home/jovyan/work/notebooks/GriddedMetDataDownload/projects/TemperatureSensorRegion'\n",
    "os.chdir(homedir)\n",
    "print('Data will be saved to:'+homedir)"
   ]
  },
  {
   "cell_type": "code",
   "execution_count": 31,
   "metadata": {},
   "outputs": [
    {
     "data": {
      "text/plain": [
       "['dailymet_bclivneh2013',\n",
       " 'dailymet_livneh2013',\n",
       " 'dailymet_livneh2015',\n",
       " 'dailyvic_livneh2013',\n",
       " 'dailyvic_livneh2015',\n",
       " 'dailywrf_bcsalathe2014',\n",
       " 'dailywrf_salathe2014',\n",
       " 'hourlywrf_pnnl']"
      ]
     },
     "execution_count": 31,
     "metadata": {},
     "output_type": "execute_result"
    }
   ],
   "source": [
    "# initialize ogh_meta\n",
    "meta_file = dict(ogh.ogh_meta())\n",
    "sorted(meta_file.keys())"
   ]
  },
  {
   "cell_type": "code",
   "execution_count": 32,
   "metadata": {},
   "outputs": [
    {
     "data": {
      "text/plain": [
       "'2015-12-31 23:00:00'"
      ]
     },
     "execution_count": 32,
     "metadata": {},
     "output_type": "execute_result"
    }
   ],
   "source": [
    "meta_file['hourlywrf_pnnl']['end_date']"
   ]
  },
  {
   "cell_type": "markdown",
   "metadata": {},
   "source": [
    "# 2. Re-establish the paths to the mapping file"
   ]
  },
  {
   "cell_type": "code",
   "execution_count": 33,
   "metadata": {},
   "outputs": [
    {
     "data": {
      "text/html": [
       "<div>\n",
       "<style scoped>\n",
       "    .dataframe tbody tr th:only-of-type {\n",
       "        vertical-align: middle;\n",
       "    }\n",
       "\n",
       "    .dataframe tbody tr th {\n",
       "        vertical-align: top;\n",
       "    }\n",
       "\n",
       "    .dataframe thead tr th {\n",
       "        text-align: left;\n",
       "    }\n",
       "</style>\n",
       "<table border=\"1\" class=\"dataframe\">\n",
       "  <thead>\n",
       "    <tr>\n",
       "      <th>Watershed</th>\n",
       "      <th>Puyallup_PNNL</th>\n",
       "      <th>Puyallup_VIC</th>\n",
       "    </tr>\n",
       "    <tr>\n",
       "      <th>Median elevation in meters [range](Number of gridded cells)</th>\n",
       "      <th>1613[997-1857] (n=34)</th>\n",
       "      <th>1603[866-1958] (n=37)</th>\n",
       "    </tr>\n",
       "  </thead>\n",
       "  <tbody>\n",
       "    <tr>\n",
       "      <th>dailymet_bclivneh2013</th>\n",
       "      <td>0</td>\n",
       "      <td>1603[866-1958] (n=37)</td>\n",
       "    </tr>\n",
       "    <tr>\n",
       "      <th>dailymet_livneh2013</th>\n",
       "      <td>0</td>\n",
       "      <td>1603[866-1958] (n=37)</td>\n",
       "    </tr>\n",
       "    <tr>\n",
       "      <th>dailymet_livneh2015</th>\n",
       "      <td>0</td>\n",
       "      <td>1603[866-1958] (n=37)</td>\n",
       "    </tr>\n",
       "    <tr>\n",
       "      <th>dailyvic_livneh2013</th>\n",
       "      <td>0</td>\n",
       "      <td>1603[866-1958] (n=37)</td>\n",
       "    </tr>\n",
       "    <tr>\n",
       "      <th>dailyvic_livneh2015</th>\n",
       "      <td>0</td>\n",
       "      <td>1603[866-1958] (n=37)</td>\n",
       "    </tr>\n",
       "    <tr>\n",
       "      <th>dailywrf_bcsalathe2014</th>\n",
       "      <td>0</td>\n",
       "      <td>1623[866-1958] (n=34)</td>\n",
       "    </tr>\n",
       "    <tr>\n",
       "      <th>dailywrf_salathe2014</th>\n",
       "      <td>0</td>\n",
       "      <td>1623[866-1958] (n=34)</td>\n",
       "    </tr>\n",
       "    <tr>\n",
       "      <th>hourlywrf_pnnl</th>\n",
       "      <td>1613[997-1857] (n=34)</td>\n",
       "      <td>0</td>\n",
       "    </tr>\n",
       "  </tbody>\n",
       "</table>\n",
       "</div>"
      ],
      "text/plain": [
       "Watershed                                                            Puyallup_PNNL  \\\n",
       "Median elevation in meters [range](Number of gridded cells)  1613[997-1857] (n=34)   \n",
       "dailymet_bclivneh2013                                                            0   \n",
       "dailymet_livneh2013                                                              0   \n",
       "dailymet_livneh2015                                                              0   \n",
       "dailyvic_livneh2013                                                              0   \n",
       "dailyvic_livneh2015                                                              0   \n",
       "dailywrf_bcsalathe2014                                                           0   \n",
       "dailywrf_salathe2014                                                             0   \n",
       "hourlywrf_pnnl                                               1613[997-1857] (n=34)   \n",
       "\n",
       "Watershed                                                             Puyallup_VIC  \n",
       "Median elevation in meters [range](Number of gridded cells)  1603[866-1958] (n=37)  \n",
       "dailymet_bclivneh2013                                        1603[866-1958] (n=37)  \n",
       "dailymet_livneh2013                                          1603[866-1958] (n=37)  \n",
       "dailymet_livneh2015                                          1603[866-1958] (n=37)  \n",
       "dailyvic_livneh2013                                          1603[866-1958] (n=37)  \n",
       "dailyvic_livneh2015                                          1603[866-1958] (n=37)  \n",
       "dailywrf_bcsalathe2014                                       1623[866-1958] (n=34)  \n",
       "dailywrf_salathe2014                                         1623[866-1958] (n=34)  \n",
       "hourlywrf_pnnl                                                                   0  "
      ]
     },
     "execution_count": 33,
     "metadata": {},
     "output_type": "execute_result"
    }
   ],
   "source": [
    "# map the mapping files generated for Sauk-Suiattle, Elwha, and Upper Rio Salado from usecase1\n",
    "mappingfile_PNNL = os.path.join(homedir,'Puyallup_P_mappingfile_i.csv')\n",
    "\n",
    "mappingfile_VIC = os.path.join(homedir, 'Puyallup_VIC_mappingfile.csv') \n",
    "\n",
    "t1 = ogh.mappingfileSummary(listofmappingfiles = [mappingfile_PNNL,mappingfile_VIC], \n",
    "                            listofwatershednames = ['Puyallup_PNNL','Puyallup_VIC'],\n",
    "                            meta_file=meta_file)\n",
    "\n",
    "t1"
   ]
  },
  {
   "cell_type": "code",
   "execution_count": 34,
   "metadata": {},
   "outputs": [
    {
     "data": {
      "text/plain": [
       "'/home/jovyan/work/notebooks/GriddedMetDataDownload/projects/TemperatureSensorRegion/PNNL/'"
      ]
     },
     "execution_count": 34,
     "metadata": {},
     "output_type": "execute_result"
    }
   ],
   "source": [
    "datadir = '/home/jovyan/work/notebooks/GriddedMetDataDownload/projects/TemperatureSensorRegion/PNNL/'\n",
    "datadir"
   ]
  },
  {
   "cell_type": "code",
   "execution_count": 35,
   "metadata": {},
   "outputs": [
    {
     "data": {
      "text/plain": [
       "'/home/jovyan/work/notebooks/GriddedMetDataDownload/projects/TemperatureSensorRegion/Puyallup_P_mappingfile_i.csv'"
      ]
     },
     "execution_count": 35,
     "metadata": {},
     "output_type": "execute_result"
    }
   ],
   "source": [
    "mappingfile_PNNL"
   ]
  },
  {
   "cell_type": "markdown",
   "metadata": {},
   "source": [
    "### Download all available datasets for Sauk-Suiattle Watershed"
   ]
  },
  {
   "cell_type": "code",
   "execution_count": 36,
   "metadata": {
    "scrolled": true
   },
   "outputs": [
    {
     "name": "stdout",
     "output_type": "stream",
     "text": [
      "Number of gridded data files:34\n",
      "Minimum elevation: 997.522521973m\n",
      "Mean elevation: 1518.119246539206m\n",
      "Maximum elevation: 1857.13256836m\n"
     ]
    },
    {
     "data": {
      "text/plain": [
       "34"
      ]
     },
     "execution_count": 36,
     "metadata": {},
     "output_type": "execute_result"
    }
   ],
   "source": [
    "maptable, nstations = ogh.mappingfileToDF_PNNL(mappingfile_PNNL)\n",
    "maptable\n",
    "nstations"
   ]
  },
  {
   "cell_type": "code",
   "execution_count": 38,
   "metadata": {},
   "outputs": [
    {
     "data": {
      "text/html": [
       "<div>\n",
       "<style scoped>\n",
       "    .dataframe tbody tr th:only-of-type {\n",
       "        vertical-align: middle;\n",
       "    }\n",
       "\n",
       "    .dataframe tbody tr th {\n",
       "        vertical-align: top;\n",
       "    }\n",
       "\n",
       "    .dataframe thead th {\n",
       "        text-align: right;\n",
       "    }\n",
       "</style>\n",
       "<table border=\"1\" class=\"dataframe\">\n",
       "  <thead>\n",
       "    <tr style=\"text-align: right;\">\n",
       "      <th></th>\n",
       "      <th>FID</th>\n",
       "      <th>SN</th>\n",
       "      <th>WE</th>\n",
       "      <th>LAT</th>\n",
       "      <th>LONG_</th>\n",
       "      <th>ELEV</th>\n",
       "      <th>hourlywrf_pnnl</th>\n",
       "    </tr>\n",
       "  </thead>\n",
       "  <tbody>\n",
       "    <tr>\n",
       "      <th>0</th>\n",
       "      <td>0</td>\n",
       "      <td>57.0</td>\n",
       "      <td>60.0</td>\n",
       "      <td>48.464809</td>\n",
       "      <td>-120.792419</td>\n",
       "      <td>1566.227539</td>\n",
       "      <td>/home/jovyan/work/notebooks/GriddedMetDataDown...</td>\n",
       "    </tr>\n",
       "    <tr>\n",
       "      <th>1</th>\n",
       "      <td>1</td>\n",
       "      <td>57.0</td>\n",
       "      <td>61.0</td>\n",
       "      <td>48.469715</td>\n",
       "      <td>-120.711258</td>\n",
       "      <td>1740.342163</td>\n",
       "      <td>/home/jovyan/work/notebooks/GriddedMetDataDown...</td>\n",
       "    </tr>\n",
       "    <tr>\n",
       "      <th>2</th>\n",
       "      <td>2</td>\n",
       "      <td>57.0</td>\n",
       "      <td>62.0</td>\n",
       "      <td>48.474552</td>\n",
       "      <td>-120.630096</td>\n",
       "      <td>1806.527100</td>\n",
       "      <td>/home/jovyan/work/notebooks/GriddedMetDataDown...</td>\n",
       "    </tr>\n",
       "    <tr>\n",
       "      <th>3</th>\n",
       "      <td>3</td>\n",
       "      <td>58.0</td>\n",
       "      <td>59.0</td>\n",
       "      <td>48.513668</td>\n",
       "      <td>-120.881042</td>\n",
       "      <td>1689.336548</td>\n",
       "      <td>/home/jovyan/work/notebooks/GriddedMetDataDown...</td>\n",
       "    </tr>\n",
       "    <tr>\n",
       "      <th>4</th>\n",
       "      <td>4</td>\n",
       "      <td>58.0</td>\n",
       "      <td>60.0</td>\n",
       "      <td>48.518616</td>\n",
       "      <td>-120.799835</td>\n",
       "      <td>1700.479858</td>\n",
       "      <td>/home/jovyan/work/notebooks/GriddedMetDataDown...</td>\n",
       "    </tr>\n",
       "    <tr>\n",
       "      <th>5</th>\n",
       "      <td>5</td>\n",
       "      <td>58.0</td>\n",
       "      <td>61.0</td>\n",
       "      <td>48.523518</td>\n",
       "      <td>-120.718613</td>\n",
       "      <td>1755.145264</td>\n",
       "      <td>/home/jovyan/work/notebooks/GriddedMetDataDown...</td>\n",
       "    </tr>\n",
       "    <tr>\n",
       "      <th>6</th>\n",
       "      <td>6</td>\n",
       "      <td>58.0</td>\n",
       "      <td>62.0</td>\n",
       "      <td>48.528370</td>\n",
       "      <td>-120.637360</td>\n",
       "      <td>1812.854980</td>\n",
       "      <td>/home/jovyan/work/notebooks/GriddedMetDataDown...</td>\n",
       "    </tr>\n",
       "    <tr>\n",
       "      <th>7</th>\n",
       "      <td>7</td>\n",
       "      <td>58.0</td>\n",
       "      <td>63.0</td>\n",
       "      <td>48.533165</td>\n",
       "      <td>-120.556122</td>\n",
       "      <td>1857.132568</td>\n",
       "      <td>/home/jovyan/work/notebooks/GriddedMetDataDown...</td>\n",
       "    </tr>\n",
       "    <tr>\n",
       "      <th>8</th>\n",
       "      <td>8</td>\n",
       "      <td>58.0</td>\n",
       "      <td>64.0</td>\n",
       "      <td>48.537914</td>\n",
       "      <td>-120.474854</td>\n",
       "      <td>1664.425781</td>\n",
       "      <td>/home/jovyan/work/notebooks/GriddedMetDataDown...</td>\n",
       "    </tr>\n",
       "    <tr>\n",
       "      <th>9</th>\n",
       "      <td>9</td>\n",
       "      <td>59.0</td>\n",
       "      <td>58.0</td>\n",
       "      <td>48.562450</td>\n",
       "      <td>-120.969849</td>\n",
       "      <td>1703.777222</td>\n",
       "      <td>/home/jovyan/work/notebooks/GriddedMetDataDown...</td>\n",
       "    </tr>\n",
       "    <tr>\n",
       "      <th>10</th>\n",
       "      <td>10</td>\n",
       "      <td>59.0</td>\n",
       "      <td>59.0</td>\n",
       "      <td>48.567451</td>\n",
       "      <td>-120.888580</td>\n",
       "      <td>1780.264282</td>\n",
       "      <td>/home/jovyan/work/notebooks/GriddedMetDataDown...</td>\n",
       "    </tr>\n",
       "    <tr>\n",
       "      <th>11</th>\n",
       "      <td>11</td>\n",
       "      <td>59.0</td>\n",
       "      <td>60.0</td>\n",
       "      <td>48.572414</td>\n",
       "      <td>-120.807281</td>\n",
       "      <td>1736.527222</td>\n",
       "      <td>/home/jovyan/work/notebooks/GriddedMetDataDown...</td>\n",
       "    </tr>\n",
       "    <tr>\n",
       "      <th>12</th>\n",
       "      <td>12</td>\n",
       "      <td>59.0</td>\n",
       "      <td>61.0</td>\n",
       "      <td>48.577320</td>\n",
       "      <td>-120.725983</td>\n",
       "      <td>1765.925415</td>\n",
       "      <td>/home/jovyan/work/notebooks/GriddedMetDataDown...</td>\n",
       "    </tr>\n",
       "    <tr>\n",
       "      <th>13</th>\n",
       "      <td>13</td>\n",
       "      <td>59.0</td>\n",
       "      <td>62.0</td>\n",
       "      <td>48.582172</td>\n",
       "      <td>-120.644653</td>\n",
       "      <td>1720.809326</td>\n",
       "      <td>/home/jovyan/work/notebooks/GriddedMetDataDown...</td>\n",
       "    </tr>\n",
       "    <tr>\n",
       "      <th>14</th>\n",
       "      <td>14</td>\n",
       "      <td>59.0</td>\n",
       "      <td>63.0</td>\n",
       "      <td>48.586967</td>\n",
       "      <td>-120.563324</td>\n",
       "      <td>1526.266968</td>\n",
       "      <td>/home/jovyan/work/notebooks/GriddedMetDataDown...</td>\n",
       "    </tr>\n",
       "    <tr>\n",
       "      <th>15</th>\n",
       "      <td>15</td>\n",
       "      <td>59.0</td>\n",
       "      <td>64.0</td>\n",
       "      <td>48.591721</td>\n",
       "      <td>-120.481995</td>\n",
       "      <td>1229.246948</td>\n",
       "      <td>/home/jovyan/work/notebooks/GriddedMetDataDown...</td>\n",
       "    </tr>\n",
       "    <tr>\n",
       "      <th>16</th>\n",
       "      <td>16</td>\n",
       "      <td>59.0</td>\n",
       "      <td>65.0</td>\n",
       "      <td>48.596428</td>\n",
       "      <td>-120.400635</td>\n",
       "      <td>1130.275391</td>\n",
       "      <td>/home/jovyan/work/notebooks/GriddedMetDataDown...</td>\n",
       "    </tr>\n",
       "    <tr>\n",
       "      <th>17</th>\n",
       "      <td>17</td>\n",
       "      <td>60.0</td>\n",
       "      <td>57.0</td>\n",
       "      <td>48.611168</td>\n",
       "      <td>-121.058807</td>\n",
       "      <td>1342.291626</td>\n",
       "      <td>/home/jovyan/work/notebooks/GriddedMetDataDown...</td>\n",
       "    </tr>\n",
       "    <tr>\n",
       "      <th>18</th>\n",
       "      <td>18</td>\n",
       "      <td>60.0</td>\n",
       "      <td>58.0</td>\n",
       "      <td>48.616226</td>\n",
       "      <td>-120.977463</td>\n",
       "      <td>1480.181152</td>\n",
       "      <td>/home/jovyan/work/notebooks/GriddedMetDataDown...</td>\n",
       "    </tr>\n",
       "    <tr>\n",
       "      <th>19</th>\n",
       "      <td>19</td>\n",
       "      <td>60.0</td>\n",
       "      <td>59.0</td>\n",
       "      <td>48.621239</td>\n",
       "      <td>-120.896118</td>\n",
       "      <td>1665.164062</td>\n",
       "      <td>/home/jovyan/work/notebooks/GriddedMetDataDown...</td>\n",
       "    </tr>\n",
       "    <tr>\n",
       "      <th>20</th>\n",
       "      <td>20</td>\n",
       "      <td>60.0</td>\n",
       "      <td>60.0</td>\n",
       "      <td>48.626202</td>\n",
       "      <td>-120.814743</td>\n",
       "      <td>1672.567627</td>\n",
       "      <td>/home/jovyan/work/notebooks/GriddedMetDataDown...</td>\n",
       "    </tr>\n",
       "    <tr>\n",
       "      <th>21</th>\n",
       "      <td>21</td>\n",
       "      <td>60.0</td>\n",
       "      <td>61.0</td>\n",
       "      <td>48.631111</td>\n",
       "      <td>-120.733368</td>\n",
       "      <td>1730.670044</td>\n",
       "      <td>/home/jovyan/work/notebooks/GriddedMetDataDown...</td>\n",
       "    </tr>\n",
       "    <tr>\n",
       "      <th>22</th>\n",
       "      <td>22</td>\n",
       "      <td>60.0</td>\n",
       "      <td>62.0</td>\n",
       "      <td>48.635967</td>\n",
       "      <td>-120.651978</td>\n",
       "      <td>1656.416016</td>\n",
       "      <td>/home/jovyan/work/notebooks/GriddedMetDataDown...</td>\n",
       "    </tr>\n",
       "    <tr>\n",
       "      <th>23</th>\n",
       "      <td>23</td>\n",
       "      <td>60.0</td>\n",
       "      <td>63.0</td>\n",
       "      <td>48.640774</td>\n",
       "      <td>-120.570557</td>\n",
       "      <td>1379.885986</td>\n",
       "      <td>/home/jovyan/work/notebooks/GriddedMetDataDown...</td>\n",
       "    </tr>\n",
       "    <tr>\n",
       "      <th>24</th>\n",
       "      <td>24</td>\n",
       "      <td>60.0</td>\n",
       "      <td>64.0</td>\n",
       "      <td>48.645527</td>\n",
       "      <td>-120.489136</td>\n",
       "      <td>1212.991089</td>\n",
       "      <td>/home/jovyan/work/notebooks/GriddedMetDataDown...</td>\n",
       "    </tr>\n",
       "    <tr>\n",
       "      <th>25</th>\n",
       "      <td>25</td>\n",
       "      <td>61.0</td>\n",
       "      <td>56.0</td>\n",
       "      <td>48.659813</td>\n",
       "      <td>-121.147903</td>\n",
       "      <td>1243.522583</td>\n",
       "      <td>/home/jovyan/work/notebooks/GriddedMetDataDown...</td>\n",
       "    </tr>\n",
       "    <tr>\n",
       "      <th>26</th>\n",
       "      <td>26</td>\n",
       "      <td>61.0</td>\n",
       "      <td>57.0</td>\n",
       "      <td>48.664936</td>\n",
       "      <td>-121.066498</td>\n",
       "      <td>1171.847534</td>\n",
       "      <td>/home/jovyan/work/notebooks/GriddedMetDataDown...</td>\n",
       "    </tr>\n",
       "    <tr>\n",
       "      <th>27</th>\n",
       "      <td>27</td>\n",
       "      <td>61.0</td>\n",
       "      <td>58.0</td>\n",
       "      <td>48.669994</td>\n",
       "      <td>-120.985092</td>\n",
       "      <td>1268.184570</td>\n",
       "      <td>/home/jovyan/work/notebooks/GriddedMetDataDown...</td>\n",
       "    </tr>\n",
       "    <tr>\n",
       "      <th>28</th>\n",
       "      <td>28</td>\n",
       "      <td>61.0</td>\n",
       "      <td>59.0</td>\n",
       "      <td>48.675011</td>\n",
       "      <td>-120.903656</td>\n",
       "      <td>1448.340820</td>\n",
       "      <td>/home/jovyan/work/notebooks/GriddedMetDataDown...</td>\n",
       "    </tr>\n",
       "    <tr>\n",
       "      <th>29</th>\n",
       "      <td>29</td>\n",
       "      <td>61.0</td>\n",
       "      <td>60.0</td>\n",
       "      <td>48.679985</td>\n",
       "      <td>-120.822220</td>\n",
       "      <td>1571.521973</td>\n",
       "      <td>/home/jovyan/work/notebooks/GriddedMetDataDown...</td>\n",
       "    </tr>\n",
       "    <tr>\n",
       "      <th>30</th>\n",
       "      <td>30</td>\n",
       "      <td>62.0</td>\n",
       "      <td>56.0</td>\n",
       "      <td>48.713577</td>\n",
       "      <td>-121.155701</td>\n",
       "      <td>1064.117432</td>\n",
       "      <td>/home/jovyan/work/notebooks/GriddedMetDataDown...</td>\n",
       "    </tr>\n",
       "    <tr>\n",
       "      <th>31</th>\n",
       "      <td>31</td>\n",
       "      <td>62.0</td>\n",
       "      <td>57.0</td>\n",
       "      <td>48.718697</td>\n",
       "      <td>-121.074219</td>\n",
       "      <td>997.522522</td>\n",
       "      <td>/home/jovyan/work/notebooks/GriddedMetDataDown...</td>\n",
       "    </tr>\n",
       "    <tr>\n",
       "      <th>32</th>\n",
       "      <td>32</td>\n",
       "      <td>62.0</td>\n",
       "      <td>58.0</td>\n",
       "      <td>48.723770</td>\n",
       "      <td>-120.992737</td>\n",
       "      <td>1161.884277</td>\n",
       "      <td>/home/jovyan/work/notebooks/GriddedMetDataDown...</td>\n",
       "    </tr>\n",
       "    <tr>\n",
       "      <th>33</th>\n",
       "      <td>33</td>\n",
       "      <td>62.0</td>\n",
       "      <td>59.0</td>\n",
       "      <td>48.728783</td>\n",
       "      <td>-120.911224</td>\n",
       "      <td>1363.380493</td>\n",
       "      <td>/home/jovyan/work/notebooks/GriddedMetDataDown...</td>\n",
       "    </tr>\n",
       "  </tbody>\n",
       "</table>\n",
       "</div>"
      ],
      "text/plain": [
       "    FID    SN    WE        LAT       LONG_         ELEV  \\\n",
       "0     0  57.0  60.0  48.464809 -120.792419  1566.227539   \n",
       "1     1  57.0  61.0  48.469715 -120.711258  1740.342163   \n",
       "2     2  57.0  62.0  48.474552 -120.630096  1806.527100   \n",
       "3     3  58.0  59.0  48.513668 -120.881042  1689.336548   \n",
       "4     4  58.0  60.0  48.518616 -120.799835  1700.479858   \n",
       "5     5  58.0  61.0  48.523518 -120.718613  1755.145264   \n",
       "6     6  58.0  62.0  48.528370 -120.637360  1812.854980   \n",
       "7     7  58.0  63.0  48.533165 -120.556122  1857.132568   \n",
       "8     8  58.0  64.0  48.537914 -120.474854  1664.425781   \n",
       "9     9  59.0  58.0  48.562450 -120.969849  1703.777222   \n",
       "10   10  59.0  59.0  48.567451 -120.888580  1780.264282   \n",
       "11   11  59.0  60.0  48.572414 -120.807281  1736.527222   \n",
       "12   12  59.0  61.0  48.577320 -120.725983  1765.925415   \n",
       "13   13  59.0  62.0  48.582172 -120.644653  1720.809326   \n",
       "14   14  59.0  63.0  48.586967 -120.563324  1526.266968   \n",
       "15   15  59.0  64.0  48.591721 -120.481995  1229.246948   \n",
       "16   16  59.0  65.0  48.596428 -120.400635  1130.275391   \n",
       "17   17  60.0  57.0  48.611168 -121.058807  1342.291626   \n",
       "18   18  60.0  58.0  48.616226 -120.977463  1480.181152   \n",
       "19   19  60.0  59.0  48.621239 -120.896118  1665.164062   \n",
       "20   20  60.0  60.0  48.626202 -120.814743  1672.567627   \n",
       "21   21  60.0  61.0  48.631111 -120.733368  1730.670044   \n",
       "22   22  60.0  62.0  48.635967 -120.651978  1656.416016   \n",
       "23   23  60.0  63.0  48.640774 -120.570557  1379.885986   \n",
       "24   24  60.0  64.0  48.645527 -120.489136  1212.991089   \n",
       "25   25  61.0  56.0  48.659813 -121.147903  1243.522583   \n",
       "26   26  61.0  57.0  48.664936 -121.066498  1171.847534   \n",
       "27   27  61.0  58.0  48.669994 -120.985092  1268.184570   \n",
       "28   28  61.0  59.0  48.675011 -120.903656  1448.340820   \n",
       "29   29  61.0  60.0  48.679985 -120.822220  1571.521973   \n",
       "30   30  62.0  56.0  48.713577 -121.155701  1064.117432   \n",
       "31   31  62.0  57.0  48.718697 -121.074219   997.522522   \n",
       "32   32  62.0  58.0  48.723770 -120.992737  1161.884277   \n",
       "33   33  62.0  59.0  48.728783 -120.911224  1363.380493   \n",
       "\n",
       "                                       hourlywrf_pnnl  \n",
       "0   /home/jovyan/work/notebooks/GriddedMetDataDown...  \n",
       "1   /home/jovyan/work/notebooks/GriddedMetDataDown...  \n",
       "2   /home/jovyan/work/notebooks/GriddedMetDataDown...  \n",
       "3   /home/jovyan/work/notebooks/GriddedMetDataDown...  \n",
       "4   /home/jovyan/work/notebooks/GriddedMetDataDown...  \n",
       "5   /home/jovyan/work/notebooks/GriddedMetDataDown...  \n",
       "6   /home/jovyan/work/notebooks/GriddedMetDataDown...  \n",
       "7   /home/jovyan/work/notebooks/GriddedMetDataDown...  \n",
       "8   /home/jovyan/work/notebooks/GriddedMetDataDown...  \n",
       "9   /home/jovyan/work/notebooks/GriddedMetDataDown...  \n",
       "10  /home/jovyan/work/notebooks/GriddedMetDataDown...  \n",
       "11  /home/jovyan/work/notebooks/GriddedMetDataDown...  \n",
       "12  /home/jovyan/work/notebooks/GriddedMetDataDown...  \n",
       "13  /home/jovyan/work/notebooks/GriddedMetDataDown...  \n",
       "14  /home/jovyan/work/notebooks/GriddedMetDataDown...  \n",
       "15  /home/jovyan/work/notebooks/GriddedMetDataDown...  \n",
       "16  /home/jovyan/work/notebooks/GriddedMetDataDown...  \n",
       "17  /home/jovyan/work/notebooks/GriddedMetDataDown...  \n",
       "18  /home/jovyan/work/notebooks/GriddedMetDataDown...  \n",
       "19  /home/jovyan/work/notebooks/GriddedMetDataDown...  \n",
       "20  /home/jovyan/work/notebooks/GriddedMetDataDown...  \n",
       "21  /home/jovyan/work/notebooks/GriddedMetDataDown...  \n",
       "22  /home/jovyan/work/notebooks/GriddedMetDataDown...  \n",
       "23  /home/jovyan/work/notebooks/GriddedMetDataDown...  \n",
       "24  /home/jovyan/work/notebooks/GriddedMetDataDown...  \n",
       "25  /home/jovyan/work/notebooks/GriddedMetDataDown...  \n",
       "26  /home/jovyan/work/notebooks/GriddedMetDataDown...  \n",
       "27  /home/jovyan/work/notebooks/GriddedMetDataDown...  \n",
       "28  /home/jovyan/work/notebooks/GriddedMetDataDown...  \n",
       "29  /home/jovyan/work/notebooks/GriddedMetDataDown...  \n",
       "30  /home/jovyan/work/notebooks/GriddedMetDataDown...  \n",
       "31  /home/jovyan/work/notebooks/GriddedMetDataDown...  \n",
       "32  /home/jovyan/work/notebooks/GriddedMetDataDown...  \n",
       "33  /home/jovyan/work/notebooks/GriddedMetDataDown...  "
      ]
     },
     "execution_count": 38,
     "metadata": {},
     "output_type": "execute_result"
    }
   ],
   "source": [
    "#SAUK MAPTABLE 55 GRID CELLS, INDEX 0 TO 54\n",
    "maptable\n",
    "#maptable_s = maptable[0:11]\n",
    "#maptable_s"
   ]
  },
  {
   "cell_type": "code",
   "execution_count": 39,
   "metadata": {},
   "outputs": [
    {
     "data": {
      "text/plain": [
       "{'minx': 56, 'maxx': 65, 'miny': 57, 'maxy': 62}"
      ]
     },
     "execution_count": 39,
     "metadata": {},
     "output_type": "execute_result"
    }
   ],
   "source": [
    "spatialbounds = {'minx':maptable.WE.min().astype(np.int64), 'maxx':maptable.WE.max().astype(np.int64),\n",
    "                 'miny':maptable.SN.min().astype(np.int64), 'maxy':maptable.SN.max().astype(np.int64)}\n",
    "spatialbounds"
   ]
  },
  {
   "cell_type": "code",
   "execution_count": 40,
   "metadata": {},
   "outputs": [
    {
     "data": {
      "text/plain": [
       "'/home/jovyan/work/notebooks/GriddedMetDataDownload/projects/TemperatureSensorRegion/PNNL/'"
      ]
     },
     "execution_count": 40,
     "metadata": {},
     "output_type": "execute_result"
    }
   ],
   "source": [
    "datadir"
   ]
  },
  {
   "cell_type": "markdown",
   "metadata": {},
   "source": [
    "## CHeck that lat and long matches shapefie PNNL2018WRFwELi"
   ]
  },
  {
   "cell_type": "code",
   "execution_count": 41,
   "metadata": {},
   "outputs": [],
   "source": [
    "latlong = xray.open_mfdataset('/home/jovyan/work/notebooks/GriddedMetDataDownload/MetDataGrids/PNNL2018_data_LatLonGht.nc',  engine = 'netcdf4')\n",
    "                "
   ]
  },
  {
   "cell_type": "code",
   "execution_count": 42,
   "metadata": {},
   "outputs": [
    {
     "name": "stdout",
     "output_type": "stream",
     "text": [
      "[########################################] | 100% Completed |  0.1s\n",
      "48.66493606567383\n",
      "[########################################] | 100% Completed |  0.1s\n",
      "-121.06649780273438\n",
      "[########################################] | 100% Completed |  0.1s\n",
      "48.52351760864258\n",
      "[########################################] | 100% Completed |  0.1s\n",
      "-120.71861267089844\n"
     ]
    }
   ],
   "source": [
    "print(latlong.LAT[61,57].values)\n",
    "print(latlong.LON[61,57].values)\n",
    "print(latlong.LAT[58,61].values)\n",
    "print(latlong.LON[58,61].values)\n",
    "\n",
    "##Checked. coordinates match! "
   ]
  },
  {
   "cell_type": "code",
   "execution_count": null,
   "metadata": {},
   "outputs": [],
   "source": [
    "%%time\n",
    "#subdir='TempCheckJan2008/'\n",
    "#update datadir to save downloaded data in appropriate location\n",
    "#use get_x_hourlywrf_PNNL2018_dir if only directory needed\n",
    "outputfiles = oxl.get_x_hourlywrf_PNNL2018(homedir=datadir,\n",
    "                                            spatialbounds=spatialbounds,\n",
    "                                            subdir='TempCheckJuneJuly2008/',\n",
    "                                            nworkers=40,\n",
    "                                            start_date='2008-06-01',\n",
    "                                            end_date='2008-07-31',\n",
    "                                            file_prefix='sp_',\n",
    "                                            replace_file=True)"
   ]
  },
  {
   "cell_type": "code",
   "execution_count": null,
   "metadata": {
    "scrolled": true
   },
   "outputs": [],
   "source": [
    "print(outputfiles[0])\n",
    "print(outputfiles[-1])"
   ]
  },
  {
   "cell_type": "code",
   "execution_count": 14,
   "metadata": {},
   "outputs": [],
   "source": [
    "import dask as da\n",
    "import xarray as xray\n",
    "from dask.diagnostics import ProgressBar\n",
    "#netcdfs=outputfiles\n",
    "subdir='TempCheckJan2008/'\n",
    "filedir=os.path.join(homedir, subdir)\n",
    "ogh.ensure_dir(filedir)"
   ]
  },
  {
   "cell_type": "code",
   "execution_count": 15,
   "metadata": {},
   "outputs": [],
   "source": [
    " #ds_mf = xray.open_mfdataset(netcdfs, engine = 'netcdf4')"
   ]
  },
  {
   "cell_type": "code",
   "execution_count": 16,
   "metadata": {},
   "outputs": [],
   "source": [
    "#ds_mf = xray.open_mfdataset('/home/jovyan/work/notebooks/GriddedMetDataDownload/projects/TemperatureSensorRegion/PNNL/TempCheckJan2008/sp_data.2008-01-01.nc',  engine = 'netcdf4')\n",
    "ds_mf_d = {} #dictionary of datasets\n",
    "rn = range(0,31)\n",
    "for i in rn:\n",
    "    if i+1 <10:\n",
    "        ds_mf = xray.open_mfdataset('/home/jovyan/work/notebooks/GriddedMetDataDownload/projects/TemperatureSensorRegion/PNNL/TempCheckJan2008/sp_data.2008-01-0'+str(i+1)+'.nc',  engine = 'netcdf4')\n",
    "    else:\n",
    "        ds_mf = xray.open_mfdataset('/home/jovyan/work/notebooks/GriddedMetDataDownload/projects/TemperatureSensorRegion/PNNL/TempCheckJan2008/sp_data.2008-01-'+str(i+1)+'.nc',  engine = 'netcdf4')\n",
    "\n",
    "    ds_mf_df=ds_mf.to_dataframe()\n",
    "    df_u = ds_mf_df.unstack(level='TIME')\n",
    "    \n",
    "    station = df_u.query('SN == 58 and WE == 61')\n",
    "    dat = station['T2']\n",
    "    ds_mf_d[i] = dat.T\n"
   ]
  },
  {
   "cell_type": "code",
   "execution_count": 17,
   "metadata": {},
   "outputs": [
    {
     "data": {
      "text/html": [
       "<div>\n",
       "<style scoped>\n",
       "    .dataframe tbody tr th:only-of-type {\n",
       "        vertical-align: middle;\n",
       "    }\n",
       "\n",
       "    .dataframe tbody tr th {\n",
       "        vertical-align: top;\n",
       "    }\n",
       "\n",
       "    .dataframe thead tr th {\n",
       "        text-align: left;\n",
       "    }\n",
       "\n",
       "    .dataframe thead tr:last-of-type th {\n",
       "        text-align: right;\n",
       "    }\n",
       "</style>\n",
       "<table border=\"1\" class=\"dataframe\">\n",
       "  <thead>\n",
       "    <tr>\n",
       "      <th>SN</th>\n",
       "      <th>58</th>\n",
       "    </tr>\n",
       "    <tr>\n",
       "      <th>WE</th>\n",
       "      <th>61</th>\n",
       "    </tr>\n",
       "    <tr>\n",
       "      <th>TIME</th>\n",
       "      <th></th>\n",
       "    </tr>\n",
       "  </thead>\n",
       "  <tbody>\n",
       "    <tr>\n",
       "      <th>2008-01-01 00:00:00</th>\n",
       "      <td>259.858643</td>\n",
       "    </tr>\n",
       "    <tr>\n",
       "      <th>2008-01-01 01:00:00</th>\n",
       "      <td>259.007812</td>\n",
       "    </tr>\n",
       "    <tr>\n",
       "      <th>2008-01-01 02:00:00</th>\n",
       "      <td>258.610657</td>\n",
       "    </tr>\n",
       "    <tr>\n",
       "      <th>2008-01-01 03:00:00</th>\n",
       "      <td>258.402191</td>\n",
       "    </tr>\n",
       "    <tr>\n",
       "      <th>2008-01-01 04:00:00</th>\n",
       "      <td>257.997223</td>\n",
       "    </tr>\n",
       "    <tr>\n",
       "      <th>2008-01-01 05:00:00</th>\n",
       "      <td>258.667297</td>\n",
       "    </tr>\n",
       "    <tr>\n",
       "      <th>2008-01-01 06:00:00</th>\n",
       "      <td>260.096191</td>\n",
       "    </tr>\n",
       "    <tr>\n",
       "      <th>2008-01-01 07:00:00</th>\n",
       "      <td>261.562927</td>\n",
       "    </tr>\n",
       "    <tr>\n",
       "      <th>2008-01-01 08:00:00</th>\n",
       "      <td>262.850189</td>\n",
       "    </tr>\n",
       "    <tr>\n",
       "      <th>2008-01-01 09:00:00</th>\n",
       "      <td>262.288300</td>\n",
       "    </tr>\n",
       "    <tr>\n",
       "      <th>2008-01-01 10:00:00</th>\n",
       "      <td>262.360474</td>\n",
       "    </tr>\n",
       "    <tr>\n",
       "      <th>2008-01-01 11:00:00</th>\n",
       "      <td>261.560669</td>\n",
       "    </tr>\n",
       "    <tr>\n",
       "      <th>2008-01-01 12:00:00</th>\n",
       "      <td>262.080017</td>\n",
       "    </tr>\n",
       "    <tr>\n",
       "      <th>2008-01-01 13:00:00</th>\n",
       "      <td>262.651733</td>\n",
       "    </tr>\n",
       "    <tr>\n",
       "      <th>2008-01-01 14:00:00</th>\n",
       "      <td>263.023926</td>\n",
       "    </tr>\n",
       "    <tr>\n",
       "      <th>2008-01-01 15:00:00</th>\n",
       "      <td>263.549255</td>\n",
       "    </tr>\n",
       "    <tr>\n",
       "      <th>2008-01-01 16:00:00</th>\n",
       "      <td>263.498962</td>\n",
       "    </tr>\n",
       "    <tr>\n",
       "      <th>2008-01-01 17:00:00</th>\n",
       "      <td>263.796204</td>\n",
       "    </tr>\n",
       "    <tr>\n",
       "      <th>2008-01-01 18:00:00</th>\n",
       "      <td>264.650940</td>\n",
       "    </tr>\n",
       "    <tr>\n",
       "      <th>2008-01-01 19:00:00</th>\n",
       "      <td>264.444244</td>\n",
       "    </tr>\n",
       "    <tr>\n",
       "      <th>2008-01-01 20:00:00</th>\n",
       "      <td>264.216553</td>\n",
       "    </tr>\n",
       "    <tr>\n",
       "      <th>2008-01-01 21:00:00</th>\n",
       "      <td>264.617035</td>\n",
       "    </tr>\n",
       "    <tr>\n",
       "      <th>2008-01-01 22:00:00</th>\n",
       "      <td>264.950470</td>\n",
       "    </tr>\n",
       "    <tr>\n",
       "      <th>2008-01-01 23:00:00</th>\n",
       "      <td>264.831421</td>\n",
       "    </tr>\n",
       "  </tbody>\n",
       "</table>\n",
       "</div>"
      ],
      "text/plain": [
       "SN                           58\n",
       "WE                           61\n",
       "TIME                           \n",
       "2008-01-01 00:00:00  259.858643\n",
       "2008-01-01 01:00:00  259.007812\n",
       "2008-01-01 02:00:00  258.610657\n",
       "2008-01-01 03:00:00  258.402191\n",
       "2008-01-01 04:00:00  257.997223\n",
       "2008-01-01 05:00:00  258.667297\n",
       "2008-01-01 06:00:00  260.096191\n",
       "2008-01-01 07:00:00  261.562927\n",
       "2008-01-01 08:00:00  262.850189\n",
       "2008-01-01 09:00:00  262.288300\n",
       "2008-01-01 10:00:00  262.360474\n",
       "2008-01-01 11:00:00  261.560669\n",
       "2008-01-01 12:00:00  262.080017\n",
       "2008-01-01 13:00:00  262.651733\n",
       "2008-01-01 14:00:00  263.023926\n",
       "2008-01-01 15:00:00  263.549255\n",
       "2008-01-01 16:00:00  263.498962\n",
       "2008-01-01 17:00:00  263.796204\n",
       "2008-01-01 18:00:00  264.650940\n",
       "2008-01-01 19:00:00  264.444244\n",
       "2008-01-01 20:00:00  264.216553\n",
       "2008-01-01 21:00:00  264.617035\n",
       "2008-01-01 22:00:00  264.950470\n",
       "2008-01-01 23:00:00  264.831421"
      ]
     },
     "execution_count": 17,
     "metadata": {},
     "output_type": "execute_result"
    }
   ],
   "source": [
    "ds_mf_d.keys()\n",
    "ds_mf_d[0]\n"
   ]
  },
  {
   "cell_type": "code",
   "execution_count": 18,
   "metadata": {},
   "outputs": [
    {
     "data": {
      "text/plain": [
       "[<matplotlib.lines.Line2D at 0x7f0ad859fda0>]"
      ]
     },
     "execution_count": 18,
     "metadata": {},
     "output_type": "execute_result"
    },
    {
     "data": {
      "image/png": "[encoded data removed]",
      "text/plain": [
       "<matplotlib.figure.Figure at 0x7f0ad86582e8>"
      ]
     },
     "metadata": {},
     "output_type": "display_data"
    }
   ],
   "source": [
    "import matplotlib.pyplot as plt\n",
    "fig, ax = plt.subplots(figsize=(12, 8))\n",
    "ax.plot(ds_mf_d[0]-273.15,'c-',linewidth=2.0,alpha=.2)\n",
    "ax.plot(ds_mf_d[1]-273.15,'c-',linewidth=2.0,alpha=.2)\n",
    "ax.plot(ds_mf_d[2]-273.15,'c-',linewidth=2.0,alpha=.2)\n",
    "#ax.plot(dfd_mx.iloc[:,6].resample('3D').mean(),'c-',linewidth=2.0,alpha=.8,label = 'b7_Tmax')"
   ]
  },
  {
   "cell_type": "code",
   "execution_count": 19,
   "metadata": {},
   "outputs": [],
   "source": [
    "os.chdir(homedir+'/PNNL/TempCheckJan2008/')"
   ]
  },
  {
   "cell_type": "code",
   "execution_count": 20,
   "metadata": {},
   "outputs": [],
   "source": [
    "import pickle #use pick file to retain dictionary file structure\n",
    "f = open(\"RawTempJan_SN58WE61.pkl\",\"wb\") #write binary\n",
    "pickle.dump(ds_mf_d,f)\n",
    "f.close() #pickle files must be closed"
   ]
  },
  {
   "cell_type": "code",
   "execution_count": 21,
   "metadata": {},
   "outputs": [
    {
     "name": "stdout",
     "output_type": "stream",
     "text": [
      "[                                        ] | 0% Completed |  5.7scropped\n",
      "cropped\n",
      "cropped\n",
      "cropped\n",
      "[                                        ] | 0% Completed |  5.9scropped\n",
      "cropped\n",
      "[                                        ] | 0% Completed |  6.0scropped\n",
      "[                                        ] | 0% Completed |  6.1scropped\n",
      "cropped\n",
      "cropped\n",
      "[                                        ] | 0% Completed |  6.3scropped\n",
      "cropped\n",
      "[                                        ] | 0% Completed |  6.4scropped\n",
      "cropped\n",
      "[                                        ] | 0% Completed |  6.5scropped\n",
      "cropped\n",
      "[                                        ] | 0% Completed |  6.6scropped\n",
      "[                                        ] | 0% Completed |  7.4scropped\n",
      "[                                        ] | 0% Completed |  7.5scropped\n",
      "[                                        ] | 0% Completed |  8.1scropped\n",
      "[                                        ] | 0% Completed |  8.3scropped\n",
      "cropped\n",
      "[                                        ] | 0% Completed |  8.4scropped\n",
      "[                                        ] | 0% Completed |  8.6scropped\n",
      "cropped\n",
      "cropped\n",
      "[                                        ] | 0% Completed |  8.7scropped\n",
      "cropped\n",
      "cropped\n",
      "cropped\n",
      "cropped\n",
      "[                                        ] | 0% Completed |  8.8scropped\n",
      "cropped\n",
      "cropped\n",
      "cropped\n",
      "cropped\n",
      "cropped\n",
      "cropped\n",
      "cropped\n",
      "[                                        ] | 0% Completed |  9.0scropped\n",
      "[                                        ] | 0% Completed | 10.8sdownloaded: spatial subset of data.2008-06-13.nc\n",
      "[                                        ] | 1% Completed | 11.5sdownloaded: spatial subset of data.2008-06-01.nc\n",
      "[#                                       ] | 3% Completed | 11.7sdownloaded: spatial subset of data.2008-07-01.nc\n",
      "[#                                       ] | 4% Completed | 12.1sdownloaded: spatial subset of data.2008-07-02.nc\n",
      "downloaded: spatial subset of data.2008-07-28.nc\n",
      "downloaded: spatial subset of data.2008-06-17.nc\n",
      "downloaded: spatial subset of data.2008-07-31.nc\n",
      "downloaded: spatial subset of data.2008-06-30.nc\n",
      "downloaded: spatial subset of data.2008-06-20.nc\n",
      "downloaded: spatial subset of data.2008-06-12.nc\n",
      "downloaded: spatial subset of data.2008-07-06.nc\n",
      "downloaded: spatial subset of data.2008-07-29.nc\n",
      "downloaded: spatial subset of data.2008-06-09.nc\n",
      "[###                                     ] | 8% Completed | 12.4sdownloaded: spatial subset of data.2008-07-27.nc\n",
      "downloaded: spatial subset of data.2008-07-17.nc\n",
      "downloaded: spatial subset of data.2008-06-03.nc\n",
      "downloaded: spatial subset of data.2008-07-15.nc\n",
      "downloaded: spatial subset of data.2008-06-05.nc\n",
      "downloaded: spatial subset of data.2008-07-14.nc\n",
      "downloaded: spatial subset of data.2008-06-06.nc\n",
      "downloaded: spatial subset of data.2008-06-11.nc\n",
      "downloaded: spatial subset of data.2008-06-26.nc\n",
      "downloaded: spatial subset of data.2008-07-13.nc\n",
      "[###                                     ] | 9% Completed | 12.7sdownloaded: spatial subset of data.2008-06-21.nc\n",
      "downloaded: spatial subset of data.2008-07-05.nc\n",
      "downloaded: spatial subset of data.2008-06-18.ncdownloaded: spatial subset of data.2008-07-07.nc\n",
      "\n",
      "downloaded: spatial subset of data.2008-07-26.nc\n",
      "downloaded: spatial subset of data.2008-06-29.nc\n",
      "downloaded: spatial subset of data.2008-06-10.nc\n",
      "downloaded: spatial subset of data.2008-07-30.nc\n",
      "downloaded: spatial subset of data.2008-06-22.nc\n",
      "[####                                    ] | 11% Completed | 12.9sdownloaded: spatial subset of data.2008-06-15.nc\n",
      "downloaded: spatial subset of data.2008-06-28.nc\n",
      "downloaded: spatial subset of data.2008-07-11.nc\n",
      "downloaded: spatial subset of data.2008-06-08.nc\n",
      "[#####                                   ] | 14% Completed | 13.0sdownloaded: spatial subset of data.2008-07-19.nc\n",
      "downloaded: spatial subset of data.2008-07-23.nc\n",
      "downloaded: spatial subset of data.2008-06-25.nc\n",
      "downloaded: spatial subset of data.2008-06-19.nc\n",
      "[##########################              ] | 65% Completed | 13.6scropped\n",
      "[##########################              ] | 65% Completed | 14.0sdownloaded: spatial subset of data.2008-06-24.nc\n",
      "[##########################              ] | 67% Completed | 14.7scropped\n",
      "[##########################              ] | 67% Completed | 15.2scropped\n",
      "[##########################              ] | 67% Completed | 15.6scropped\n",
      "[##########################              ] | 67% Completed | 15.8scropped\n",
      "[##########################              ] | 67% Completed | 16.1sdownloaded: spatial subset of data.2008-06-02.nc\n",
      "[###########################             ] | 68% Completed | 16.4sdownloaded: spatial subset of data.2008-07-18.nc\n",
      "[############################            ] | 70% Completed | 16.5scropped\n",
      "cropped\n",
      "[############################            ] | 70% Completed | 16.6scropped\n",
      "[############################            ] | 70% Completed | 17.4scropped\n",
      "cropped\n",
      "cropped\n",
      "[############################            ] | 70% Completed | 17.5scropped\n",
      "cropped\n",
      "cropped\n",
      "cropped\n",
      "cropped\n",
      "[############################            ] | 70% Completed | 17.7scropped\n",
      "[############################            ] | 70% Completed | 17.8scropped\n",
      "downloaded: spatial subset of data.2008-06-23.nc\n",
      "[############################            ] | 70% Completed | 18.0sdownloaded: spatial subset of data.2008-07-22.nc\n",
      "cropped\n",
      "cropped\n",
      "[#############################           ] | 73% Completed | 18.1scropped\n",
      "[#############################           ] | 73% Completed | 18.4sdownloaded: spatial subset of data.2008-06-16.nc\n",
      "[#############################           ] | 73% Completed | 18.5sdownloaded: spatial subset of data.2008-07-03.nc\n",
      "downloaded: spatial subset of data.2008-07-25.nc\n",
      "downloaded: spatial subset of data.2008-07-20.nc\n",
      "[###############################         ] | 78% Completed | 18.7sdownloaded: spatial subset of data.2008-07-16.nc\n",
      "[################################        ] | 80% Completed | 18.8sdownloaded: spatial subset of data.2008-07-21.nc\n",
      "downloaded: spatial subset of data.2008-07-09.nc\n",
      "downloaded: spatial subset of data.2008-07-10.nc\n",
      "[#################################       ] | 83% Completed | 18.9sdownloaded: spatial subset of data.2008-07-08.nc\n",
      "downloaded: spatial subset of data.2008-07-12.nc\n",
      "[##################################      ] | 86% Completed | 19.0sdownloaded: spatial subset of data.2008-07-04.nc\n",
      "downloaded: spatial subset of data.2008-06-14.nc\n",
      "downloaded: spatial subset of data.2008-06-27.nc\n",
      "downloaded: spatial subset of data.2008-06-07.nc\n",
      "downloaded: spatial subset of data.2008-07-24.nc\n",
      "downloaded: spatial subset of data.2008-06-04.nc\n",
      "[########################################] | 100% Completed | 19.2s\n",
      "CPU times: user 12.7 s, sys: 6.88 s, total: 19.6 s\n",
      "Wall time: 19.3 s\n"
     ]
    }
   ],
   "source": [
    "%%time\n",
    "#subdir='TempCheckJan2008/'\n",
    "#update datadir to save downloaded data in appropriate location\n",
    "#use get_x_hourlywrf_PNNL2018_dir if only directory needed\n",
    "outputfiles = oxl.get_x_hourlywrf_PNNL2018(homedir=datadir,\n",
    "                                            spatialbounds=spatialbounds,\n",
    "                                            subdir='TempCheckJuneJuly2008/',\n",
    "                                            nworkers=40,\n",
    "                                            start_date='2008-06-01',\n",
    "                                            end_date='2008-07-31',\n",
    "                                            file_prefix='sp_',\n",
    "                                            replace_file=True)"
   ]
  },
  {
   "cell_type": "code",
   "execution_count": 22,
   "metadata": {},
   "outputs": [
    {
     "data": {
      "text/plain": [
       "'/home/jovyan/work/notebooks/GriddedMetDataDownload/projects/TemperatureSensorRegion/PNNL/'"
      ]
     },
     "execution_count": 22,
     "metadata": {},
     "output_type": "execute_result"
    }
   ],
   "source": [
    "datadir"
   ]
  },
  {
   "cell_type": "code",
   "execution_count": 23,
   "metadata": {},
   "outputs": [],
   "source": [
    "import dask as da\n",
    "import xarray as xray\n",
    "from dask.diagnostics import ProgressBar\n",
    "netcdfs=outputfiles\n",
    "subdir='TempCheckJuneJuly2008/'\n",
    "filedir=os.path.join(homedir, subdir)\n",
    "ogh.ensure_dir(filedir)"
   ]
  },
  {
   "cell_type": "code",
   "execution_count": 24,
   "metadata": {},
   "outputs": [
    {
     "name": "stdout",
     "output_type": "stream",
     "text": [
      "[########################################] | 100% Completed |  0.1s\n",
      "[########################################] | 100% Completed |  0.1s\n",
      "[########################################] | 100% Completed |  0.1s\n",
      "[########################################] | 100% Completed |  0.1s\n",
      "[########################################] | 100% Completed |  0.1s\n",
      "[########################################] | 100% Completed |  0.1s\n",
      "[########################################] | 100% Completed |  0.1s\n",
      "[########################################] | 100% Completed |  0.1s\n",
      "[########################################] | 100% Completed |  0.1s\n",
      "[########################################] | 100% Completed |  0.1s\n",
      "[########################################] | 100% Completed |  0.1s\n",
      "[########################################] | 100% Completed |  0.1s\n",
      "[########################################] | 100% Completed |  0.1s\n",
      "[########################################] | 100% Completed |  0.1s\n",
      "[########################################] | 100% Completed |  0.1s\n",
      "[########################################] | 100% Completed |  0.1s\n",
      "[########################################] | 100% Completed |  0.1s\n",
      "[########################################] | 100% Completed |  0.1s\n",
      "[########################################] | 100% Completed |  0.1s\n",
      "[########################################] | 100% Completed |  0.1s\n",
      "[########################################] | 100% Completed |  0.1s\n",
      "[########################################] | 100% Completed |  0.1s\n",
      "[########################################] | 100% Completed |  0.1s\n",
      "[########################################] | 100% Completed |  0.1s\n",
      "[########################################] | 100% Completed |  0.1s\n",
      "[########################################] | 100% Completed |  0.1s\n",
      "[########################################] | 100% Completed |  0.1s\n",
      "[########################################] | 100% Completed |  0.1s\n",
      "[########################################] | 100% Completed |  0.1s\n",
      "[########################################] | 100% Completed |  0.1s\n",
      "[########################################] | 100% Completed |  0.1s\n",
      "[########################################] | 100% Completed |  0.1s\n",
      "[########################################] | 100% Completed |  0.1s\n",
      "[########################################] | 100% Completed |  0.1s\n",
      "[########################################] | 100% Completed |  0.1s\n",
      "[########################################] | 100% Completed |  0.1s\n",
      "[########################################] | 100% Completed |  0.1s\n",
      "[########################################] | 100% Completed |  0.1s\n",
      "[########################################] | 100% Completed |  0.1s\n",
      "[########################################] | 100% Completed |  0.1s\n",
      "[########################################] | 100% Completed |  0.1s\n",
      "[########################################] | 100% Completed |  0.1s\n",
      "[########################################] | 100% Completed |  0.1s\n",
      "[########################################] | 100% Completed |  0.1s\n",
      "[########################################] | 100% Completed |  0.1s\n",
      "[########################################] | 100% Completed |  0.1s\n",
      "[########################################] | 100% Completed |  0.1s\n",
      "[########################################] | 100% Completed |  0.1s\n",
      "[########################################] | 100% Completed |  0.1s\n",
      "[########################################] | 100% Completed |  0.1s\n",
      "[########################################] | 100% Completed |  0.1s\n",
      "[########################################] | 100% Completed |  0.1s\n",
      "[########################################] | 100% Completed |  0.1s\n",
      "[########################################] | 100% Completed |  0.1s\n",
      "[########################################] | 100% Completed |  0.1s\n",
      "[########################################] | 100% Completed |  0.1s\n",
      "[########################################] | 100% Completed |  0.1s\n",
      "[########################################] | 100% Completed |  0.1s\n",
      "[########################################] | 100% Completed |  0.1s\n",
      "[########################################] | 100% Completed |  0.1s\n",
      "[########################################] | 100% Completed |  0.1s\n",
      "[########################################] | 100% Completed |  0.1s\n",
      "[########################################] | 100% Completed |  0.1s\n",
      "[########################################] | 100% Completed |  0.1s\n",
      "[########################################] | 100% Completed |  0.1s\n",
      "[########################################] | 100% Completed |  0.1s\n",
      "[########################################] | 100% Completed |  0.1s\n",
      "[########################################] | 100% Completed |  0.1s\n",
      "[########################################] | 100% Completed |  0.1s\n",
      "[########################################] | 100% Completed |  0.1s\n",
      "[########################################] | 100% Completed |  0.1s\n",
      "[########################################] | 100% Completed |  0.1s\n",
      "[########################################] | 100% Completed |  0.1s\n",
      "[########################################] | 100% Completed |  0.1s\n",
      "[########################################] | 100% Completed |  0.1s\n",
      "[########################################] | 100% Completed |  0.1s\n",
      "[########################################] | 100% Completed |  0.1s\n",
      "[########################################] | 100% Completed |  0.1s\n",
      "[########################################] | 100% Completed |  0.1s\n",
      "[########################################] | 100% Completed |  0.1s\n",
      "[########################################] | 100% Completed |  0.1s\n",
      "[########################################] | 100% Completed |  0.1s\n",
      "[########################################] | 100% Completed |  0.1s\n",
      "[########################################] | 100% Completed |  0.1s\n",
      "[########################################] | 100% Completed |  0.1s\n",
      "[########################################] | 100% Completed |  0.1s\n",
      "[########################################] | 100% Completed |  0.1s\n",
      "[########################################] | 100% Completed |  0.1s\n",
      "[########################################] | 100% Completed |  0.1s\n",
      "[########################################] | 100% Completed |  0.1s\n",
      "[########################################] | 100% Completed |  0.1s\n",
      "[########################################] | 100% Completed |  0.1s\n",
      "[########################################] | 100% Completed |  0.1s\n",
      "[########################################] | 100% Completed |  0.1s\n",
      "[########################################] | 100% Completed |  0.1s\n",
      "[########################################] | 100% Completed |  0.1s\n",
      "[########################################] | 100% Completed |  0.1s\n",
      "[########################################] | 100% Completed |  0.1s\n",
      "[########################################] | 100% Completed |  0.1s\n",
      "[########################################] | 100% Completed |  0.1s\n",
      "[########################################] | 100% Completed |  0.1s\n",
      "[########################################] | 100% Completed |  0.1s\n",
      "[########################################] | 100% Completed |  0.1s\n",
      "[########################################] | 100% Completed |  0.1s\n",
      "[########################################] | 100% Completed |  0.1s\n",
      "[########################################] | 100% Completed |  0.1s\n",
      "[########################################] | 100% Completed |  0.1s\n",
      "[########################################] | 100% Completed |  0.1s\n",
      "[########################################] | 100% Completed |  0.1s\n",
      "[########################################] | 100% Completed |  0.1s\n",
      "[########################################] | 100% Completed |  0.1s\n",
      "[########################################] | 100% Completed |  0.1s\n",
      "[########################################] | 100% Completed |  0.1s\n",
      "[########################################] | 100% Completed |  0.1s\n",
      "[########################################] | 100% Completed |  0.1s\n",
      "[########################################] | 100% Completed |  0.1s\n",
      "[########################################] | 100% Completed |  0.1s\n",
      "[########################################] | 100% Completed |  0.1s\n",
      "[########################################] | 100% Completed |  0.1s\n",
      "[########################################] | 100% Completed |  0.1s\n"
     ]
    },
    {
     "name": "stdout",
     "output_type": "stream",
     "text": [
      "[########################################] | 100% Completed |  0.1s\n",
      "[########################################] | 100% Completed |  0.1s\n",
      "[########################################] | 100% Completed |  0.1s\n",
      "[########################################] | 100% Completed |  0.1s\n",
      "[########################################] | 100% Completed |  0.1s\n",
      "[########################################] | 100% Completed |  0.1s\n",
      "[########################################] | 100% Completed |  0.1s\n",
      "[########################################] | 100% Completed |  0.1s\n",
      "[########################################] | 100% Completed |  0.1s\n",
      "[########################################] | 100% Completed |  0.1s\n",
      "[########################################] | 100% Completed |  0.1s\n",
      "[########################################] | 100% Completed |  0.1s\n",
      "[########################################] | 100% Completed |  0.1s\n",
      "[########################################] | 100% Completed |  0.1s\n",
      "[########################################] | 100% Completed |  0.1s\n",
      "[########################################] | 100% Completed |  0.1s\n",
      "[########################################] | 100% Completed |  0.1s\n",
      "[########################################] | 100% Completed |  0.1s\n",
      "[########################################] | 100% Completed |  0.1s\n",
      "[########################################] | 100% Completed |  0.1s\n",
      "[########################################] | 100% Completed |  0.1s\n",
      "[########################################] | 100% Completed |  0.1s\n",
      "[########################################] | 100% Completed |  0.1s\n",
      "[########################################] | 100% Completed |  0.1s\n",
      "[########################################] | 100% Completed |  0.1s\n",
      "[########################################] | 100% Completed |  0.1s\n",
      "[########################################] | 100% Completed |  0.1s\n",
      "[########################################] | 100% Completed |  0.1s\n",
      "[########################################] | 100% Completed |  0.1s\n",
      "[########################################] | 100% Completed |  0.1s\n",
      "[########################################] | 100% Completed |  0.1s\n",
      "[########################################] | 100% Completed |  0.1s\n",
      "[########################################] | 100% Completed |  0.1s\n",
      "[########################################] | 100% Completed |  0.1s\n",
      "[########################################] | 100% Completed |  0.1s\n",
      "[########################################] | 100% Completed |  0.1s\n",
      "[########################################] | 100% Completed |  0.1s\n",
      "[########################################] | 100% Completed |  0.1s\n",
      "[########################################] | 100% Completed |  0.1s\n",
      "[########################################] | 100% Completed |  0.1s\n",
      "[########################################] | 100% Completed |  0.1s\n",
      "[########################################] | 100% Completed |  0.1s\n",
      "[########################################] | 100% Completed |  0.1s\n",
      "[########################################] | 100% Completed |  0.1s\n",
      "[########################################] | 100% Completed |  0.1s\n",
      "[########################################] | 100% Completed |  0.1s\n",
      "[########################################] | 100% Completed |  0.1s\n",
      "[########################################] | 100% Completed |  0.1s\n",
      "[########################################] | 100% Completed |  0.1s\n",
      "[########################################] | 100% Completed |  0.1s\n",
      "[########################################] | 100% Completed |  0.1s\n",
      "[########################################] | 100% Completed |  0.1s\n",
      "[########################################] | 100% Completed |  0.1s\n",
      "[########################################] | 100% Completed |  0.1s\n",
      "[########################################] | 100% Completed |  0.1s\n",
      "[########################################] | 100% Completed |  0.1s\n",
      "[########################################] | 100% Completed |  0.1s\n",
      "[########################################] | 100% Completed |  0.1s\n",
      "[########################################] | 100% Completed |  0.1s\n",
      "[########################################] | 100% Completed |  0.1s\n",
      "[########################################] | 100% Completed |  0.1s\n",
      "[########################################] | 100% Completed |  0.1s\n",
      "[########################################] | 100% Completed |  0.1s\n",
      "[########################################] | 100% Completed |  0.1s\n",
      "[########################################] | 100% Completed |  0.1s\n",
      "[########################################] | 100% Completed |  0.1s\n",
      "[########################################] | 100% Completed |  0.1s\n",
      "[########################################] | 100% Completed |  0.1s\n",
      "[########################################] | 100% Completed |  0.1s\n",
      "[########################################] | 100% Completed |  0.1s\n",
      "[########################################] | 100% Completed |  0.1s\n",
      "[########################################] | 100% Completed |  0.1s\n",
      "[########################################] | 100% Completed |  0.1s\n",
      "[########################################] | 100% Completed |  0.1s\n",
      "[########################################] | 100% Completed |  0.1s\n",
      "[########################################] | 100% Completed |  0.1s\n",
      "[########################################] | 100% Completed |  0.1s\n",
      "[########################################] | 100% Completed |  0.1s\n",
      "[########################################] | 100% Completed |  0.1s\n",
      "[########################################] | 100% Completed |  0.1s\n",
      "[########################################] | 100% Completed |  0.1s\n",
      "[########################################] | 100% Completed |  0.1s\n",
      "[########################################] | 100% Completed |  0.1s\n",
      "[########################################] | 100% Completed |  0.1s\n",
      "[########################################] | 100% Completed |  0.1s\n",
      "[########################################] | 100% Completed |  0.1s\n",
      "[########################################] | 100% Completed |  0.1s\n",
      "[########################################] | 100% Completed |  0.1s\n",
      "[########################################] | 100% Completed |  0.1s\n",
      "[########################################] | 100% Completed |  0.1s\n",
      "[########################################] | 100% Completed |  0.1s\n",
      "[########################################] | 100% Completed |  0.1s\n",
      "[########################################] | 100% Completed |  0.1s\n",
      "[########################################] | 100% Completed |  0.1s\n",
      "[########################################] | 100% Completed |  0.1s\n",
      "[########################################] | 100% Completed |  0.1s\n",
      "[########################################] | 100% Completed |  0.1s\n",
      "[########################################] | 100% Completed |  0.1s\n",
      "[########################################] | 100% Completed |  0.1s\n",
      "[########################################] | 100% Completed |  0.1s\n",
      "[########################################] | 100% Completed |  0.1s\n",
      "[########################################] | 100% Completed |  0.1s\n",
      "[########################################] | 100% Completed |  0.1s\n",
      "[########################################] | 100% Completed |  0.1s\n",
      "[########################################] | 100% Completed |  0.1s\n",
      "[########################################] | 100% Completed |  0.1s\n",
      "[########################################] | 100% Completed |  0.1s\n",
      "[########################################] | 100% Completed |  0.1s\n",
      "[########################################] | 100% Completed |  0.1s\n",
      "[########################################] | 100% Completed |  0.1s\n",
      "[########################################] | 100% Completed |  0.1s\n",
      "[########################################] | 100% Completed |  0.1s\n",
      "[########################################] | 100% Completed |  0.1s\n",
      "[########################################] | 100% Completed |  0.1s\n",
      "[########################################] | 100% Completed |  0.1s\n",
      "[########################################] | 100% Completed |  0.1s\n",
      "[########################################] | 100% Completed |  0.1s\n",
      "[########################################] | 100% Completed |  0.1s\n",
      "[########################################] | 100% Completed |  0.1s\n",
      "[########################################] | 100% Completed |  0.1s\n"
     ]
    },
    {
     "name": "stdout",
     "output_type": "stream",
     "text": [
      "[########################################] | 100% Completed |  0.1s\n",
      "[########################################] | 100% Completed |  0.1s\n",
      "[########################################] | 100% Completed |  0.1s\n",
      "[########################################] | 100% Completed |  0.1s\n",
      "[########################################] | 100% Completed |  0.1s\n",
      "[########################################] | 100% Completed |  0.1s\n",
      "[########################################] | 100% Completed |  0.1s\n",
      "[########################################] | 100% Completed |  0.1s\n",
      "[########################################] | 100% Completed |  0.1s\n",
      "[########################################] | 100% Completed |  0.1s\n",
      "[########################################] | 100% Completed |  0.1s\n",
      "[########################################] | 100% Completed |  0.1s\n",
      "[########################################] | 100% Completed |  0.1s\n",
      "[########################################] | 100% Completed |  0.1s\n",
      "[########################################] | 100% Completed |  0.1s\n",
      "[########################################] | 100% Completed |  0.1s\n",
      "[########################################] | 100% Completed |  0.1s\n",
      "[########################################] | 100% Completed |  0.1s\n",
      "[########################################] | 100% Completed |  0.1s\n",
      "[########################################] | 100% Completed |  0.1s\n",
      "[########################################] | 100% Completed |  0.1s\n",
      "[########################################] | 100% Completed |  0.1s\n",
      "[########################################] | 100% Completed |  0.1s\n",
      "[########################################] | 100% Completed |  0.1s\n",
      "[########################################] | 100% Completed |  0.1s\n",
      "[########################################] | 100% Completed |  0.1s\n",
      "[########################################] | 100% Completed |  0.1s\n",
      "[########################################] | 100% Completed |  0.1s\n",
      "[########################################] | 100% Completed |  0.1s\n",
      "[########################################] | 100% Completed |  0.1s\n"
     ]
    }
   ],
   "source": [
    "#ds_mf = xray.open_mfdataset('/home/jovyan/work/notebooks/GriddedMetDataDownload/projects/TemperatureSensorRegion/PNNL/TempCheckJan2008/sp_data.2008-01-01.nc',  engine = 'netcdf4')\n",
    "ds_mf_ds = {} #dictionary of datasets\n",
    "rn = range(0,30)\n",
    "for i in rn:\n",
    "    if i+1 <10:\n",
    "        ds_mf = xray.open_mfdataset('/home/jovyan/work/notebooks/GriddedMetDataDownload/projects/TemperatureSensorRegion/PNNL/TempCheckJuneJuly2008/sp_data.2008-06-0'+str(i+1)+'.nc',  engine = 'netcdf4')\n",
    "    else:\n",
    "        ds_mf = xray.open_mfdataset('/home/jovyan/work/notebooks/GriddedMetDataDownload/projects/TemperatureSensorRegion/PNNL/TempCheckJuneJuly2008/sp_data.2008-06-'+str(i+1)+'.nc',  engine = 'netcdf4')\n",
    "\n",
    "    ds_mf_df=ds_mf.to_dataframe()\n",
    "    df_u = ds_mf_df.unstack(level='TIME')\n",
    "    \n",
    "    station = df_u.query('SN == 58 and WE == 61')\n",
    "    dat = station['T2']\n",
    "    ds_mf_ds[i] = dat.T\n"
   ]
  },
  {
   "cell_type": "code",
   "execution_count": 25,
   "metadata": {},
   "outputs": [
    {
     "data": {
      "text/plain": [
       "[<matplotlib.lines.Line2D at 0x7f0ad8099cc0>]"
      ]
     },
     "execution_count": 25,
     "metadata": {},
     "output_type": "execute_result"
    },
    {
     "data": {
      "image/png": "[encoded data removed]",
      "text/plain": [
       "<matplotlib.figure.Figure at 0x7f0ad870ef98>"
      ]
     },
     "metadata": {},
     "output_type": "display_data"
    }
   ],
   "source": [
    "import matplotlib.pyplot as plt\n",
    "fig, ax = plt.subplots(figsize=(12, 8))\n",
    "ax.plot(ds_mf_ds[0]-273.15,'c-',linewidth=2.0,alpha=.2)\n",
    "ax.plot(ds_mf_ds[1]-273.15,'c-',linewidth=2.0,alpha=.2)\n",
    "ax.plot(ds_mf_ds[2]-273.15,'c-',linewidth=2.0,alpha=.2)\n",
    "#ax.plot(dfd_mx.iloc[:,6].resample('3D').mean(),'c-',linewidth=2.0,alpha=.8,label = 'b7_Tmax')"
   ]
  },
  {
   "cell_type": "code",
   "execution_count": 26,
   "metadata": {},
   "outputs": [],
   "source": [
    "os.chdir(homedir+'/PNNL/TempCheckJuneJuly2008/')"
   ]
  },
  {
   "cell_type": "code",
   "execution_count": 27,
   "metadata": {},
   "outputs": [],
   "source": [
    "import pickle #use pick file to retain dictionary file structure\n",
    "f = open(\"RawTempJune_SN58WE61.pkl\",\"wb\") #write binary\n",
    "pickle.dump(ds_mf_ds,f)\n",
    "f.close() #pickle files must be closed"
   ]
  },
  {
   "cell_type": "code",
   "execution_count": null,
   "metadata": {},
   "outputs": [],
   "source": [
    "import dask as da\n",
    "import xarray as xray\n",
    "from dask.diagnostics import ProgressBar\n",
    "\n",
    "def netcdf_to_ascii(homedir, subdir, netcdfs, mappingfile, catalog_label, meta_file):#, time_nm):\n",
    "    # initialize list of dataframe outputs\n",
    "    outfiledict = {}\n",
    "    \n",
    "    # generate destination folder\n",
    "    filedir=os.path.join(homedir, subdir)\n",
    "    ogh.ensure_dir(filedir)\n",
    "\n",
    "    # connect with collection of netcdfs\n",
    "    ds_mf = xray.open_mfdataset(netcdfs, engine = 'netcdf4')\n",
    "\n",
    "    # convert netcdfs to pandas.Panel API\n",
    "    ds_pan = ds_mf.to_dataframe().reset_index('TIME')\n",
    "    \n",
    "    # generate list of variables\n",
    "    ds_vars = [ds_var for ds_var in ds_pan.columns\n",
    "               if ds_var not in ['YEAR','MONTH','DAY','TIME','LAT','LON']]\n",
    "\n",
    "    # read in gridded cells of interest\n",
    "    maptable, nstation = ogh.mappingfileToDF(mappingfile, colvar=None)\n",
    "    \n",
    "   # maptable = maptable[0:3]\n",
    "    \n",
    "    # at each latlong of interest\n",
    "    for ind, eachrow in maptable.iterrows():\n",
    "\n",
    "        # generate ASCII time-series\n",
    "        ds_df = ds_pan.loc[eachrow['SN'],eachrow['WE'],:].reset_index(drop=True).loc[:,ds_vars]\n",
    "\n",
    "        # create file name\n",
    "#        outfilename = os.path.join(filedir, catalog_label  + '_' + time_nm + '_{0}_{1}'.format(eachrow['LAT'],eachrow['LONG_']))\n",
    "        outfilename = os.path.join(filedir, catalog_label  + '_{0}_{1}'.format(eachrow['LAT'],eachrow['LONG_']))\n",
    "        # save ds_df\n",
    "        outfiledict[outfilename] = da.delayed(ds_df.to_csv)(path_or_buf=outfilename, sep='\\t', header=False, index=False)\n",
    "\n",
    "    # compute ASCII time-series files\n",
    "    ProgressBar().register()\n",
    "    outfiledict = da.compute(outfiledict)[0]\n",
    "    \n",
    "    # update metadata file\n",
    "    meta_file[catalog_label]['variable_info'].update(dict(ds_mf.attrs))\n",
    "    meta_file[catalog_label]['variable_info'].update(dict(ds_mf.variables))\n",
    "    meta_file[catalog_label]['variable_list']=np.array(ds_vars)\n",
    "    \n",
    "    # catalog the output files\n",
    "    ogh.addCatalogToMap(outfilepath=mappingfile, maptable=maptable, folderpath=filedir, catalog_label=catalog_label)\n",
    "    os.chdir(homedir)\n",
    "    return(list(outfiledict.keys()))"
   ]
  },
  {
   "cell_type": "code",
   "execution_count": null,
   "metadata": {},
   "outputs": [],
   "source": [
    "# ds_pan = test2.to_dataframe().reset_index('TIME')\n",
    "# ds_pan"
   ]
  },
  {
   "cell_type": "code",
   "execution_count": null,
   "metadata": {},
   "outputs": [],
   "source": [
    "# ds_vars = [ds_var for ds_var in ds_pan.columns\n",
    "#            if ds_var not in ['YEAR','MONTH','DAY','TIME','LAT','LON']]\n",
    "# # ds_vars"
   ]
  },
  {
   "cell_type": "code",
   "execution_count": null,
   "metadata": {},
   "outputs": [],
   "source": [
    "# pd.date_range(start=meta_file['hourlywrf_pnnl']['start_date'],\n",
    "#               end='2015-12-31 23:00:00',\n",
    "#               freq=meta_file['hourlywrf_pnnl']['temporal_resolution'])"
   ]
  },
  {
   "cell_type": "code",
   "execution_count": null,
   "metadata": {},
   "outputs": [],
   "source": [
    "# meta_file['hourlywrf_pnnl']['variable_list']"
   ]
  },
  {
   "cell_type": "code",
   "execution_count": null,
   "metadata": {},
   "outputs": [],
   "source": [
    "# # convert netcdfs to pandas.Panel API\n",
    "# ds_pan = test2.to_dataframe()[ds_vars].reset_index('TIME')\n",
    "# print(ds_pan)\n",
    "\n",
    "# for ind, eachrow in maptable.iterrows():\n",
    "\n",
    "#         # generate ASCII time-series\n",
    "#         ds_df = ds_pan.loc[eachrow['SN'],eachrow['WE'],:].reset_index()"
   ]
  },
  {
   "cell_type": "code",
   "execution_count": null,
   "metadata": {},
   "outputs": [],
   "source": [
    "#pwd\n",
    "homedir = datadir\n",
    "homedir"
   ]
  },
  {
   "cell_type": "code",
   "execution_count": null,
   "metadata": {
    "scrolled": true
   },
   "outputs": [],
   "source": [
    "%%time\n",
    "\n",
    "outputlist = netcdf_to_ascii(homedir=homedir,\n",
    "                             subdir='TestASCII/',\n",
    "                             netcdfs=outputfiles,\n",
    "                             mappingfile=mappingfile1,\n",
    "                             catalog_label='hourlywrf_pnnl',\n",
    "                             meta_file=meta_file)\n",
    "                             #time_nm = '20060101to20101231')"
   ]
  },
  {
   "cell_type": "code",
   "execution_count": null,
   "metadata": {},
   "outputs": [],
   "source": []
  },
  {
   "cell_type": "code",
   "execution_count": null,
   "metadata": {
    "scrolled": true
   },
   "outputs": [],
   "source": [
    "maptable, nstation = ogh.mappingfileToDF(mappingfile1,colvar=None)\n",
    "maptable"
   ]
  },
  {
   "cell_type": "code",
   "execution_count": null,
   "metadata": {},
   "outputs": [],
   "source": [
    "pd.read_table(maptable['hourlywrf_pnnl'][0], header=None)"
   ]
  },
  {
   "cell_type": "code",
   "execution_count": null,
   "metadata": {},
   "outputs": [],
   "source": [
    "ds = xr.open_dataset('PNNL2018/Hourly_WRF_2005_2007/noBC/'+'sp_'+os.path.basename(basename), engine = 'netcdf4')\n",
    "ds"
   ]
  },
  {
   "cell_type": "code",
   "execution_count": null,
   "metadata": {},
   "outputs": [],
   "source": [
    "# hour = [x.strftime('%Y-%m-%d %H:%M:%S') for x in pd.date_range(start='2005-10-02', periods=24, freq='H')]\n",
    "# ds['TIME'] = pd.DatetimeIndex(hour)\n",
    "# ds.TIME"
   ]
  },
  {
   "cell_type": "markdown",
   "metadata": {},
   "source": [
    "ds"
   ]
  },
  {
   "cell_type": "markdown",
   "metadata": {},
   "source": [
    "## END TROUBLESHOOTING"
   ]
  },
  {
   "cell_type": "markdown",
   "metadata": {},
   "source": [
    "## (4) Concatenate netcdf files into one netCDF file and one dataframe with lat,long,time indices : Use xarray function open_mfdataset"
   ]
  },
  {
   "cell_type": "code",
   "execution_count": null,
   "metadata": {},
   "outputs": [],
   "source": [
    "subdir='/PNNL2018/Hourly_WRF_2005_2007/noBC'\n",
    "\n",
    "os.chdir(homedir+subdir)"
   ]
  },
  {
   "cell_type": "code",
   "execution_count": null,
   "metadata": {},
   "outputs": [],
   "source": [
    "os.getcwd()"
   ]
  },
  {
   "cell_type": "code",
   "execution_count": null,
   "metadata": {
    "scrolled": true
   },
   "outputs": [],
   "source": [
    "# Download Lat and Lon netcdf file, convert to dataframe\n",
    "LtLnEl = xr.open_dataset(('data_LatLonGht.nc'), engine = 'netcdf4')\n",
    "LtLnEl_df = LtLnEl.to_dataframe()\n",
    "LtLnEl_df.reset_index()"
   ]
  },
  {
   "cell_type": "code",
   "execution_count": null,
   "metadata": {},
   "outputs": [],
   "source": [
    "#NetCDF files(range of dates) to concatenate into a single dataframe\n",
    "start_date = '2005-10-01'\n",
    "end_date = '2005-12-30'\n",
    "dates = [x.strftime('%Y-%m-%d') for x in pd.date_range(start=start_date, end=end_date, freq='D')]\n",
    "  \n",
    "#for each day (file) open pnnl netcdf file as xarray dataset, convert all \n",
    "#variables to single dataframe, change indexes to corresponding LAT,LON,TIME values, \n",
    "#append to dataframe\n",
    "ds_pan = pd.DataFrame()\n",
    "ds_pan"
   ]
  },
  {
   "cell_type": "code",
   "execution_count": null,
   "metadata": {
    "scrolled": true
   },
   "outputs": [],
   "source": [
    "date=dates[0]\n",
    "#open netcdf file\n",
    "pnnl = xr.open_dataset('sp_data.' + date +'.nc')\n",
    "pnnl_df = pnnl.to_dataframe() #index: SN, TIME, WE\n",
    "pnnl_df = pnnl_df.reset_index(['TIME'])#.sort_values(['SN','WE','TIME'])\n",
    "\n",
    "pnnl_df"
   ]
  },
  {
   "cell_type": "code",
   "execution_count": null,
   "metadata": {},
   "outputs": [],
   "source": [
    "spatialbounds"
   ]
  },
  {
   "cell_type": "code",
   "execution_count": null,
   "metadata": {},
   "outputs": [],
   "source": [
    "pnnl=pnnl.assign_coords(SN=pnnl.SN, WE=pnnl.WE)\n",
    "pnnl"
   ]
  },
  {
   "cell_type": "code",
   "execution_count": null,
   "metadata": {},
   "outputs": [],
   "source": [
    "pnnl.sel(SN=slice(4,6), WE=slice(3,5)).to_dataframe()"
   ]
  },
  {
   "cell_type": "code",
   "execution_count": null,
   "metadata": {},
   "outputs": [],
   "source": [
    "pnnl"
   ]
  },
  {
   "cell_type": "code",
   "execution_count": null,
   "metadata": {
    "scrolled": true
   },
   "outputs": [],
   "source": [
    "pnnl.sel(SN=slice(4,6),WE=slice(4,6)).to_dataframe()"
   ]
  },
  {
   "cell_type": "code",
   "execution_count": null,
   "metadata": {
    "scrolled": true
   },
   "outputs": [],
   "source": [
    "# Download Lat and Lon netcdf file, convert to dataframe\n",
    "LtLnEl = xr.open_dataset(('data_LatLonGht.nc'), engine = 'netcdf4')\n",
    "LtLnEl_df = LtLnEl.to_dataframe()#\n",
    "LtLnEl_df"
   ]
  },
  {
   "cell_type": "code",
   "execution_count": null,
   "metadata": {},
   "outputs": [],
   "source": [
    "#create series of dates to add to dataset as TIME index\n",
    "time = pd.date_range(start=date, periods=24, freq='H')\n",
    "tdf = pd.DataFrame(time, columns = ['TIME'])\n",
    "\n",
    "tdf"
   ]
  },
  {
   "cell_type": "code",
   "execution_count": null,
   "metadata": {},
   "outputs": [],
   "source": [
    "# Download Lat and Lon netcdf file, convert to dataframe\n",
    "LtLnEl = xr.open_dataset(('data_LatLonGht.nc'), engine = 'netcdf4')\n",
    "LtLnEl_df = LtLnEl.to_dataframe()#\n",
    "\n",
    "#create LAT and LONG index values from spatialbounds\n",
    "#spatialbounds = {'minx': 49, 'maxx': 57, 'miny': 49, 'maxy': 58} #from notebook usercase 2\n",
    "\n",
    "#NetCDF files(range of dates) to concatenate into a single dataframe\n",
    "start_date = '2005-10-01'\n",
    "end_date = '2005-12-30'\n",
    "dates = [x.strftime('%Y-%m-%d') for x in pd.date_range(start=start_date, end=end_date, freq='D')]\n",
    "  \n",
    "#for each day (file) open pnnl netcdf file as xarray dataset, convert all \n",
    "#variables to single dataframe, change indexes to corresponding LAT,LON,TIME values, \n",
    "#append to dataframe\n",
    "ds_pan = pd.DataFrame()\n",
    "for ini, date in enumerate(dates):\n",
    "    #for each file\n",
    "\n",
    "    #open netcdf file\n",
    "    pnnl = xr.open_dataset('sp_data.' + date +'.nc')\n",
    "    pnnl_df = pnnl.to_dataframe() #index: SN, TIME, WE\n",
    "          \n",
    "    #create series of dates to add to dataset as TIME index\n",
    "    time = pd.date_range(start=date, periods=24, freq='H')\n",
    "    tdf = pd.DataFrame(time, columns = ['TIME'])\n",
    "    \n",
    "\n",
    "\n",
    "    #(1) set index of pnnl dataframe to indices of lat, long only (remove time indice)\n",
    "    # =============================================================================\n",
    "    pnnl_df['index1'] = (pnnl_df.index)\n",
    "    lst1 = []\n",
    "    lst2 = []\n",
    "    lst3 = []\n",
    "    for ind in list(pnnl_df['index1']):\n",
    "        lst1.append(ind[0]+ spatialbounds['miny'])#SN index\n",
    "        lst2.append(ind[2]+ spatialbounds['minx'])#WE index\n",
    "        lst3.append(ind[1])#TIME index\n",
    "    pnnl_df['ind1'] = lst1\n",
    "    pnnl_df['ind2'] = lst2\n",
    "    pnnl_df['ind3'] = lst3\n",
    "  \n",
    "    pnnl_df.set_index(['ind1','ind2'],inplace=True)\n",
    "    \n",
    "    #(2) set index of LtLnEl dataframe to indices lat and lon\n",
    "    # =============================================================================\n",
    "    \n",
    "    LtLnEl_df['index2'] = LtLnEl_df.index\n",
    "     \n",
    "    lst4 = []\n",
    "    lst5 = []\n",
    "    for ind in list(LtLnEl_df['index2']):\n",
    "        lst4.append(ind[0])#LAT index\n",
    "        lst5.append(ind[1])#LON index\n",
    "    # \n",
    "    LtLnEl_df['ind1'] = lst4\n",
    "    LtLnEl_df['ind2'] = lst5\n",
    "   \n",
    "    LtLnEl_df.set_index(['ind1','ind2'],inplace=True)\n",
    "\n",
    "    #(3) Join LAT and LON coordinates to index values to create df3\n",
    "    # ============================================================================\n",
    "    \n",
    "    df3 = pnnl_df.join(LtLnEl_df)\n",
    "    \n",
    "    #(4) set index of df3 to time index and join with dataframe containing values for time indices \n",
    "    # =============================================================================\n",
    "     \n",
    "    df3.set_index(['ind3'],inplace=True)\n",
    "     \n",
    "    final = df3.join(tdf)\n",
    "    \n",
    "    #(5) Append to final dataframe ds_pan \n",
    "    # =============================================================================    \n",
    "    \n",
    "    #set index as ind1, ind2 and ind3\n",
    "    #final.set_index(['LAT','LON','TIME'],inplace=True)\n",
    "    final.set_index(['LAT','LON'],inplace=True)\n",
    "\n",
    "    #append final to ds_pan \n",
    "    ds_pan = pd.concat([ds_pan, final])\n",
    "    \n"
   ]
  },
  {
   "cell_type": "code",
   "execution_count": null,
   "metadata": {},
   "outputs": [],
   "source": [
    "#add lat lon to column data\n",
    "ds_pan['index3'] = ds_pan.index\n",
    "\n",
    "lst6 = []\n",
    "lst7 = []\n",
    "for ind in list(ds_pan['index3']):\n",
    "    lst6.append('%.5f'%(ind[0]))#LAT index\n",
    "    lst7.append('%.5f'%(ind[1]))#LON index\n",
    "# \n",
    "ds_pan['LAT'] = lst6\n",
    "ds_pan['LON'] = lst7\n",
    "\n",
    "# ds_pan.set_index(['LAT','LON','TIME'],inplace=True)"
   ]
  },
  {
   "cell_type": "code",
   "execution_count": null,
   "metadata": {},
   "outputs": [],
   "source": [
    "#ds_pan.set_index(['LAT','LON','TIME'],inplace=True)\n",
    "ds_pan.set_index(['LAT','LON'],inplace=True)"
   ]
  },
  {
   "cell_type": "code",
   "execution_count": null,
   "metadata": {},
   "outputs": [],
   "source": [
    "ds_pan"
   ]
  },
  {
   "cell_type": "code",
   "execution_count": null,
   "metadata": {},
   "outputs": [],
   "source": [
    "#ds_pan.loc['48.12695']\n",
    "ds_pan.loc['48.126949']"
   ]
  },
  {
   "cell_type": "code",
   "execution_count": null,
   "metadata": {},
   "outputs": [],
   "source": [
    "# read in gridded cells of interest\n",
    "maptable, nstation = ogh.mappingfileToDF(mappingfile1, colvar=None)"
   ]
  },
  {
   "cell_type": "code",
   "execution_count": null,
   "metadata": {},
   "outputs": [],
   "source": [
    "maptable.head()\n",
    "val = '%.5f'%(maptable['LAT'][0])\n",
    "val"
   ]
  },
  {
   "cell_type": "code",
   "execution_count": null,
   "metadata": {},
   "outputs": [],
   "source": [
    "ds_pan.index[0]"
   ]
  },
  {
   "cell_type": "code",
   "execution_count": null,
   "metadata": {},
   "outputs": [],
   "source": [
    "# at each latlong of interest\n",
    "for ind, eachrow in maptable.iterrows():\n",
    "\n",
    "    # generate ASCII time-series\n",
    "    ds_df = ds_pan.loc['%.5f'%(eachrow['LAT']),'%.5f'%(eachrow['LONG_']),:]#.reset_index(drop=True, level=[0,1])\n",
    "\n",
    "    # create file name\n",
    "    #outfilename = os.path.join(filedir,'data_{0}_{1}'.format(eachrow['LAT'],eachrow['LONG_']))\n",
    "\n",
    "    # save ds_df\n",
    "    #outfiledict[outfilename] = da.delayed(ds_df.to_csv)(path_or_buf=outfilename, sep='\\t', header=False, index=False)\n"
   ]
  },
  {
   "cell_type": "code",
   "execution_count": null,
   "metadata": {},
   "outputs": [],
   "source": [
    "\n",
    "\n",
    "\n"
   ]
  },
  {
   "cell_type": "code",
   "execution_count": null,
   "metadata": {},
   "outputs": [],
   "source": []
  },
  {
   "cell_type": "code",
   "execution_count": null,
   "metadata": {
    "scrolled": true
   },
   "outputs": [],
   "source": []
  },
  {
   "cell_type": "markdown",
   "metadata": {},
   "source": [
    "# 5. Save results back into HydroShare\n",
    "<a name=\"creation\"></a>\n",
    "\n",
    "Using the `hs_utils` library, the results of the Geoprocessing steps above can be saved back into HydroShare.  First, define all of the required metadata for resource creation, i.e. *title*, *abstract*, *keywords*, *content files*.  In addition, we must define the type of resource that will be created, in this case *genericresource*.  \n",
    "\n",
    "***Note:*** Make sure you save the notebook at this point, so that all notebook changes will be saved into the new HydroShare resource."
   ]
  },
  {
   "cell_type": "markdown",
   "metadata": {},
   "source": [
    "### Archive the downloaded data files for collaborative use\n",
    "\n",
    "Create list of files to save to HydroShare. Verify location and names."
   ]
  },
  {
   "cell_type": "code",
   "execution_count": null,
   "metadata": {},
   "outputs": [],
   "source": [
    "# %%time\n",
    "# !tar -zcf livneh2013.tar.gz livneh2013\n",
    "# !tar -zcf livneh2015.tar.gz livneh2015\n",
    "# !tar -zcf salathe2014.tar.gz salathe2014"
   ]
  },
  {
   "cell_type": "code",
   "execution_count": null,
   "metadata": {},
   "outputs": [],
   "source": [
    "# # the downloaded tar files\n",
    "# climate2013_tar = os.path.join(homedir,'livneh2013.tar.gz')\n",
    "# climate2015_tar = os.path.join(homedir,'livneh2015.tar.gz')\n",
    "# wrf_tar = os.path.join(homedir,'salathe2014.tar.gz')"
   ]
  },
  {
   "cell_type": "code",
   "execution_count": null,
   "metadata": {},
   "outputs": [],
   "source": [
    "# # for each file downloaded onto the server folder, move to a new HydroShare Generic Resource\n",
    "# title = 'Downloaded data sets from each study site for each of seven gridded data products'\n",
    "# abstract = 'This resource contains the downloaded data files for each study site and the gridded cell centroids that intersected within the study area. The file availability is described within the watershed_table file, which summarizes each of the three mapping file catalogs.'\n",
    "# keywords = ['Sauk', 'Elwha','Rio Salado','climate','hydromet','watershed'] \n",
    "# rtype = 'genericresource'\n",
    "\n",
    "# ##PROBLEM WITH WRITING TO RESOURCE\n",
    "\n",
    "# # files to migrate ===> NO watershed_table\n",
    "# #files=[mappingfile1, # sauk\n",
    "# #       mappingfile2, # elwha\n",
    "# #       mappingfile3, # riosalado\n",
    "# #       watershed_table, # watershed summary table\n",
    "# #       climate2013_tar, # Livneh et al. 2013 raw MET, bc MET, and VIC\n",
    "# #       climate2015_tar, # Livneh et al. 2015 raw MET, and VIC\n",
    "# #       wrf_tar] # Salathe et al. 2014 raw WRF and bc WRF\n",
    "\n",
    "# # files to migrate\n",
    "# files=[mappingfile1, # sauk\n",
    "#        mappingfile2, # elwha\n",
    "#        mappingfile3, # riosalado\n",
    "#        climate2013_tar, # Livneh et al. 2013 raw MET, bc MET, and VIC\n",
    "#        climate2015_tar, # Livneh et al. 2015 raw MET, and VIC\n",
    "#        wrf_tar] # Salathe et al. 2014 raw WRF and bc WRF\n",
    "\n",
    "# # files to migrate\n",
    "# #files=[climate2013_tar, # Livneh et al. 2013 raw MET, bc MET, and VIC\n",
    "# #       climate2015_tar, # Livneh et al. 2015 raw MET, and VIC\n",
    "# #       wrf_tar] # Salathe et al. 2014 raw WRF and bc WRF\n",
    "\n",
    "\n",
    "# # create the new resource\n",
    "# resource_id = hs.createHydroShareResource(title=title, \n",
    "#                                           abstract=abstract,\n",
    "#                                           keywords=keywords, \n",
    "#                                           resource_type=rtype, \n",
    "#                                           content_files=files, \n",
    "#                                           public=False)"
   ]
  },
  {
   "cell_type": "code",
   "execution_count": null,
   "metadata": {},
   "outputs": [],
   "source": []
  }
 ],
 "metadata": {
  "anaconda-cloud": {},
  "kernelspec": {
   "display_name": "Python 3",
   "language": "python",
   "name": "python3"
  },
  "language_info": {
   "codemirror_mode": {
    "name": "ipython",
    "version": 3
   },
   "file_extension": ".py",
   "mimetype": "text/x-python",
   "name": "python",
   "nbconvert_exporter": "python",
   "pygments_lexer": "ipython3",
   "version": "3.6.5"
  }
 },
 "nbformat": 4,
 "nbformat_minor": 1
}
